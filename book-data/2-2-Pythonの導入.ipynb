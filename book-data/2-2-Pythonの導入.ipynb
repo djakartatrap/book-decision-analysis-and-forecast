{
 "cells": [
  {
   "cell_type": "markdown",
   "metadata": {},
   "source": [
    "# 意思決定分析と予測の活用｜第2部 決定分析の基礎\n",
    "https://logics-of-blue.com/decision-analysis-and-forecast-book-support/"
   ]
  },
  {
   "cell_type": "markdown",
   "metadata": {},
   "source": [
    "## 第2章\tPythonの導入"
   ]
  },
  {
   "cell_type": "markdown",
   "metadata": {},
   "source": [
    "## Pythonの基本事項"
   ]
  },
  {
   "cell_type": "markdown",
   "metadata": {},
   "source": [
    "### list"
   ]
  },
  {
   "cell_type": "code",
   "execution_count": 1,
   "metadata": {},
   "outputs": [
    {
     "data": {
      "text/plain": [
       "[1, 2, 3]"
      ]
     },
     "execution_count": 1,
     "metadata": {},
     "output_type": "execute_result"
    }
   ],
   "source": [
    "# list\n",
    "nums = [1, 2, 3]\n",
    "nums"
   ]
  },
  {
   "cell_type": "markdown",
   "metadata": {},
   "source": [
    "### 関数の作成"
   ]
  },
  {
   "cell_type": "code",
   "execution_count": 2,
   "metadata": {},
   "outputs": [],
   "source": [
    "# 関数の作成\n",
    "def my_func(in_value):\n",
    "    out_value = in_value * 10\n",
    "    return(out_value)"
   ]
  },
  {
   "cell_type": "code",
   "execution_count": 3,
   "metadata": {},
   "outputs": [
    {
     "data": {
      "text/plain": [
       "50"
      ]
     },
     "execution_count": 3,
     "metadata": {},
     "output_type": "execute_result"
    }
   ],
   "source": [
    "my_func(in_value=5)"
   ]
  },
  {
   "cell_type": "code",
   "execution_count": 4,
   "metadata": {},
   "outputs": [
    {
     "data": {
      "text/plain": [
       "50"
      ]
     },
     "execution_count": 4,
     "metadata": {},
     "output_type": "execute_result"
    }
   ],
   "source": [
    "my_func(5)"
   ]
  },
  {
   "cell_type": "markdown",
   "metadata": {},
   "source": [
    "### numpyとpandasの初歩"
   ]
  },
  {
   "cell_type": "code",
   "execution_count": 5,
   "metadata": {},
   "outputs": [],
   "source": [
    "# 数値計算に使うライブラリ\n",
    "import numpy as np\n",
    "import pandas as pd"
   ]
  },
  {
   "cell_type": "markdown",
   "metadata": {},
   "source": [
    "### numpyのndarray"
   ]
  },
  {
   "cell_type": "code",
   "execution_count": 6,
   "metadata": {},
   "outputs": [
    {
     "data": {
      "text/plain": [
       "array([1, 2])"
      ]
     },
     "execution_count": 6,
     "metadata": {},
     "output_type": "execute_result"
    }
   ],
   "source": [
    "# numpyのndarray(1次元)\n",
    "array_1 = np.array([1, 2])\n",
    "array_1"
   ]
  },
  {
   "cell_type": "code",
   "execution_count": 7,
   "metadata": {},
   "outputs": [
    {
     "data": {
      "text/plain": [
       "array([2, 3])"
      ]
     },
     "execution_count": 7,
     "metadata": {},
     "output_type": "execute_result"
    }
   ],
   "source": [
    "# これは計算できる\n",
    "array_1 + 1"
   ]
  },
  {
   "cell_type": "code",
   "execution_count": 8,
   "metadata": {},
   "outputs": [],
   "source": [
    "# listだとうまくいかない(工夫すればできます)\n",
    "# nums + 1\n",
    "# TypeError: can only concatenate list (not \"int\") to list"
   ]
  },
  {
   "cell_type": "markdown",
   "metadata": {},
   "source": [
    "### pandasのDataFrame"
   ]
  },
  {
   "cell_type": "code",
   "execution_count": 9,
   "metadata": {},
   "outputs": [
    {
     "name": "stdout",
     "output_type": "stream",
     "text": [
      "      column1  column2\n",
      "row1        1        4\n",
      "row2        2        5\n",
      "row3        3        6\n"
     ]
    }
   ],
   "source": [
    "# pandasのDataFrame\n",
    "df_1 = pd.DataFrame({\n",
    "    'column1': [1, 2, 3],\n",
    "    'column2': [4, 5, 6]\n",
    "})\n",
    "df_1.index = ['row1', 'row2', 'row3']\n",
    "print(df_1)"
   ]
  },
  {
   "cell_type": "markdown",
   "metadata": {},
   "source": [
    "### pandasのSeries"
   ]
  },
  {
   "cell_type": "code",
   "execution_count": 10,
   "metadata": {},
   "outputs": [
    {
     "data": {
      "text/plain": [
       "idx1    7\n",
       "idx2    8\n",
       "dtype: int64"
      ]
     },
     "execution_count": 10,
     "metadata": {},
     "output_type": "execute_result"
    }
   ],
   "source": [
    "# pandasのSeries\n",
    "series_1 = pd.Series([7, 8])\n",
    "series_1.index = ['idx1', 'idx2']\n",
    "series_1"
   ]
  },
  {
   "cell_type": "code",
   "execution_count": 11,
   "metadata": {},
   "outputs": [
    {
     "name": "stdout",
     "output_type": "stream",
     "text": [
      "row1    1\n",
      "row2    2\n",
      "row3    3\n",
      "Name: column1, dtype: int64\n"
     ]
    }
   ],
   "source": [
    "# df_1の1列目だけを取り出す\n",
    "series_2 = df_1['column1']\n",
    "print(series_2)"
   ]
  },
  {
   "cell_type": "markdown",
   "metadata": {},
   "source": [
    "### DataFrameの演算"
   ]
  },
  {
   "cell_type": "code",
   "execution_count": 12,
   "metadata": {},
   "outputs": [
    {
     "name": "stdout",
     "output_type": "stream",
     "text": [
      "      column1  column2\n",
      "row1        2        5\n",
      "row2        3        6\n",
      "row3        4        7\n"
     ]
    }
   ],
   "source": [
    "# 1を足す\n",
    "print(df_1 + 1)"
   ]
  },
  {
   "cell_type": "code",
   "execution_count": 13,
   "metadata": {},
   "outputs": [
    {
     "name": "stdout",
     "output_type": "stream",
     "text": [
      "      column1  column2\n",
      "row1        2        5\n",
      "row2        3        6\n",
      "row3        4        7\n"
     ]
    }
   ],
   "source": [
    "# 1を足す\n",
    "print(df_1.add(1))"
   ]
  },
  {
   "cell_type": "code",
   "execution_count": 14,
   "metadata": {},
   "outputs": [
    {
     "name": "stdout",
     "output_type": "stream",
     "text": [
      "引き算\n",
      "      column1  column2\n",
      "row1        0        3\n",
      "row2        1        4\n",
      "row3        2        5\n",
      "掛け算\n",
      "      column1  column2\n",
      "row1        2        8\n",
      "row2        4       10\n",
      "row3        6       12\n",
      "割り算\n",
      "      column1  column2\n",
      "row1      0.5      2.0\n",
      "row2      1.0      2.5\n",
      "row3      1.5      3.0\n"
     ]
    }
   ],
   "source": [
    "# 参考\n",
    "\n",
    "# 引き算\n",
    "print('引き算')\n",
    "print(df_1.sub(1))\n",
    "\n",
    "# 掛け算\n",
    "print('掛け算')\n",
    "print(df_1.mul(2))\n",
    "\n",
    "# 割り算\n",
    "print('割り算')\n",
    "print(df_1.div(2))"
   ]
  },
  {
   "cell_type": "code",
   "execution_count": 15,
   "metadata": {},
   "outputs": [
    {
     "name": "stdout",
     "output_type": "stream",
     "text": [
      "足し算\n",
      "idx1    8\n",
      "idx2    9\n",
      "dtype: int64\n",
      "引き算\n",
      "idx1    6\n",
      "idx2    7\n",
      "dtype: int64\n",
      "掛け算\n",
      "idx1    14\n",
      "idx2    16\n",
      "dtype: int64\n",
      "割り算\n",
      "idx1    3.5\n",
      "idx2    4.0\n",
      "dtype: float64\n"
     ]
    }
   ],
   "source": [
    "# 参考\n",
    "print('足し算')\n",
    "print(series_1.add(1))\n",
    "\n",
    "# 引き算\n",
    "print('引き算')\n",
    "print(series_1.sub(1))\n",
    "\n",
    "# 掛け算\n",
    "print('掛け算')\n",
    "print(series_1.mul(2))\n",
    "\n",
    "# 割り算\n",
    "print('割り算')\n",
    "print(series_1.div(2))"
   ]
  },
  {
   "cell_type": "markdown",
   "metadata": {},
   "source": [
    "### DataFrameの行や列を対象とした演算"
   ]
  },
  {
   "cell_type": "code",
   "execution_count": 16,
   "metadata": {},
   "outputs": [
    {
     "data": {
      "text/plain": [
       "column1    3\n",
       "column2    6\n",
       "dtype: int64"
      ]
     },
     "execution_count": 16,
     "metadata": {},
     "output_type": "execute_result"
    }
   ],
   "source": [
    "# 列ごとに最大値を取得する\n",
    "df_1.max()"
   ]
  },
  {
   "cell_type": "code",
   "execution_count": 17,
   "metadata": {},
   "outputs": [
    {
     "data": {
      "text/plain": [
       "row1    4\n",
       "row2    5\n",
       "row3    6\n",
       "dtype: int64"
      ]
     },
     "execution_count": 17,
     "metadata": {},
     "output_type": "execute_result"
    }
   ],
   "source": [
    "# 行ごとに最大値を取得する\n",
    "df_1.max(axis=1)"
   ]
  },
  {
   "cell_type": "markdown",
   "metadata": {},
   "source": [
    "### DataFrameに対する関数の適用"
   ]
  },
  {
   "cell_type": "code",
   "execution_count": 18,
   "metadata": {},
   "outputs": [
    {
     "data": {
      "text/plain": [
       "2.0"
      ]
     },
     "execution_count": 18,
     "metadata": {},
     "output_type": "execute_result"
    }
   ],
   "source": [
    "# 底が2である対数の計算\n",
    "np.log2(4)"
   ]
  },
  {
   "cell_type": "code",
   "execution_count": 19,
   "metadata": {},
   "outputs": [
    {
     "name": "stdout",
     "output_type": "stream",
     "text": [
      "       column1   column2\n",
      "row1  0.000000  2.000000\n",
      "row2  1.000000  2.321928\n",
      "row3  1.584963  2.584963\n"
     ]
    }
   ],
   "source": [
    "# 全ての数値の対数を取る。行と列が保持される\n",
    "print(df_1.apply(np.log2))"
   ]
  },
  {
   "cell_type": "code",
   "execution_count": 20,
   "metadata": {},
   "outputs": [
    {
     "data": {
      "text/plain": [
       "column1     6\n",
       "column2    15\n",
       "dtype: int64"
      ]
     },
     "execution_count": 20,
     "metadata": {},
     "output_type": "execute_result"
    }
   ],
   "source": [
    "# 列ごとに合計値を計算する\n",
    "df_1.apply(np.sum, axis=0)"
   ]
  },
  {
   "cell_type": "code",
   "execution_count": 21,
   "metadata": {},
   "outputs": [
    {
     "data": {
      "text/plain": [
       "row1    5\n",
       "row2    7\n",
       "row3    9\n",
       "dtype: int64"
      ]
     },
     "execution_count": 21,
     "metadata": {},
     "output_type": "execute_result"
    }
   ],
   "source": [
    "# 行ごとに合計値を計算する\n",
    "df_1.apply(np.sum, axis=1)"
   ]
  },
  {
   "cell_type": "code",
   "execution_count": 22,
   "metadata": {},
   "outputs": [
    {
     "data": {
      "text/plain": [
       "row1    5\n",
       "row2    7\n",
       "row3    9\n",
       "dtype: int64"
      ]
     },
     "execution_count": 22,
     "metadata": {},
     "output_type": "execute_result"
    }
   ],
   "source": [
    "# 合計値を計算する場合は以下のようにしても良い\n",
    "df_1.sum(axis=1)"
   ]
  }
 ],
 "metadata": {
  "kernelspec": {
   "display_name": "Python 3",
   "language": "python",
   "name": "python3"
  },
  "language_info": {
   "codemirror_mode": {
    "name": "ipython",
    "version": 3
   },
   "file_extension": ".py",
   "mimetype": "text/x-python",
   "name": "python",
   "nbconvert_exporter": "python",
   "pygments_lexer": "ipython3",
   "version": "3.8.3"
  }
 },
 "nbformat": 4,
 "nbformat_minor": 4
}
