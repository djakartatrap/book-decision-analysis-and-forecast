{
 "cells": [
  {
   "cell_type": "markdown",
   "metadata": {},
   "source": [
    "# 意思決定分析と予測の活用｜第2部 決定分析の基礎\n",
    "https://logics-of-blue.com/decision-analysis-and-forecast-book-support/"
   ]
  },
  {
   "cell_type": "markdown",
   "metadata": {},
   "source": [
    "## 第5章 情報の量"
   ]
  },
  {
   "cell_type": "markdown",
   "metadata": {},
   "source": [
    "### Pythonによる分析の準備"
   ]
  },
  {
   "cell_type": "code",
   "execution_count": 1,
   "metadata": {},
   "outputs": [],
   "source": [
    "# 数値計算に使うライブラリ\n",
    "import numpy as np\n",
    "import pandas as pd\n",
    "\n",
    "# DataFrameの全角文字の出力をきれいにする\n",
    "pd.set_option('display.unicode.east_asian_width', True)\n",
    "# 本文の数値とあわせるために、小数点以下3桁で丸める\n",
    "pd.set_option('display.precision', 3)"
   ]
  },
  {
   "cell_type": "markdown",
   "metadata": {},
   "source": [
    "### 自己情報量"
   ]
  },
  {
   "cell_type": "markdown",
   "metadata": {},
   "source": [
    "#### 関数の作成"
   ]
  },
  {
   "cell_type": "code",
   "execution_count": 2,
   "metadata": {},
   "outputs": [],
   "source": [
    "def self_info(prob):\n",
    "    return(-1 * np.log2(prob))"
   ]
  },
  {
   "cell_type": "markdown",
   "metadata": {},
   "source": [
    "#### 自己情報量の計算例"
   ]
  },
  {
   "cell_type": "code",
   "execution_count": 3,
   "metadata": {},
   "outputs": [
    {
     "name": "stdout",
     "output_type": "stream",
     "text": [
      "6の目が出たとわかったときの自己情報量：2.58\n"
     ]
    }
   ],
   "source": [
    "i_6 = self_info(1/6)\n",
    "print(f'6の目が出たとわかったときの自己情報量：{i_6:.3g}')"
   ]
  },
  {
   "cell_type": "code",
   "execution_count": 4,
   "metadata": {},
   "outputs": [
    {
     "name": "stdout",
     "output_type": "stream",
     "text": [
      "3の倍数とわかったときの自己情報量　 ：1.58\n",
      "偶数であるとわかったときの自己情報量：1\n",
      "情報を小出しにされたときの合計値    ：2.58\n"
     ]
    }
   ],
   "source": [
    "i_3mul = self_info(1/3)\n",
    "i_even = self_info(1/2) \n",
    "print(f'3の倍数とわかったときの自己情報量　 ：{i_3mul:.3g}')\n",
    "print(f'偶数であるとわかったときの自己情報量：{i_even:.3g}')\n",
    "print(f'情報を小出しにされたときの合計値    ：{i_3mul + i_even:.3g}')"
   ]
  },
  {
   "cell_type": "markdown",
   "metadata": {},
   "source": [
    "### 平均情報量と情報エントロピー"
   ]
  },
  {
   "cell_type": "markdown",
   "metadata": {},
   "source": [
    "#### 計算方法の確認"
   ]
  },
  {
   "cell_type": "code",
   "execution_count": 5,
   "metadata": {},
   "outputs": [
    {
     "data": {
      "text/plain": [
       "好況    0.4\n",
       "不況    0.6\n",
       "dtype: float64"
      ]
     },
     "execution_count": 5,
     "metadata": {},
     "output_type": "execute_result"
    }
   ],
   "source": [
    "# 好況と不況の確率\n",
    "prob_state = pd.Series([0.4, 0.6])\n",
    "prob_state.index = ['好況', '不況']\n",
    "prob_state"
   ]
  },
  {
   "cell_type": "code",
   "execution_count": 6,
   "metadata": {},
   "outputs": [
    {
     "name": "stdout",
     "output_type": "stream",
     "text": [
      "0.971\n"
     ]
    }
   ],
   "source": [
    "# エントロピー計算\n",
    "H = prob_state[0] * self_info(prob_state[0]) + \\\n",
    "    prob_state[1] * self_info(prob_state[1])\n",
    "print(f'{H:.3g}')"
   ]
  },
  {
   "cell_type": "markdown",
   "metadata": {},
   "source": [
    "#### 効率的な実装"
   ]
  },
  {
   "cell_type": "code",
   "execution_count": 7,
   "metadata": {},
   "outputs": [],
   "source": [
    "from scipy.stats import entropy"
   ]
  },
  {
   "cell_type": "code",
   "execution_count": 8,
   "metadata": {},
   "outputs": [
    {
     "name": "stdout",
     "output_type": "stream",
     "text": [
      "0.971\n"
     ]
    }
   ],
   "source": [
    "H_stats = entropy(prob_state, base=2)\n",
    "print(f'{H_stats:.3g}')"
   ]
  },
  {
   "cell_type": "code",
   "execution_count": 9,
   "metadata": {},
   "outputs": [
    {
     "name": "stdout",
     "output_type": "stream",
     "text": [
      "0.971\n"
     ]
    }
   ],
   "source": [
    "# 確率の合計が1になっていない場合は、勝手に標準化される\n",
    "H_normalize = entropy(pd.Series([0.2, 0.3]), base=2)\n",
    "print(f'{H_normalize:.3g}')"
   ]
  },
  {
   "cell_type": "code",
   "execution_count": 10,
   "metadata": {},
   "outputs": [
    {
     "name": "stdout",
     "output_type": "stream",
     "text": [
      "0.985\n"
     ]
    }
   ],
   "source": [
    "# 参考\n",
    "# もちろん、定義通り計算したら、異なる結果になる\n",
    "prob_state_2 = pd.Series([0.2, 0.3])\n",
    "H_2 = prob_state_2[0] * self_info(prob_state_2[0]) + \\\n",
    "      prob_state_2[1] * self_info(prob_state_2[1])\n",
    "print(f'{H_2:.3g}')"
   ]
  },
  {
   "cell_type": "markdown",
   "metadata": {},
   "source": [
    "### 情報エントロピーの性質"
   ]
  },
  {
   "cell_type": "code",
   "execution_count": 11,
   "metadata": {},
   "outputs": [
    {
     "name": "stdout",
     "output_type": "stream",
     "text": [
      "    p1   p2\n",
      "0  0.0  1.0\n",
      "1  0.1  0.9\n",
      "2  0.2  0.8\n"
     ]
    }
   ],
   "source": [
    "# 11種類の確率分布を作る\n",
    "prob_df = pd.DataFrame({\n",
    "    'p1': np.arange(start=0, stop=1.1, step=0.1),\n",
    "    'p2': 1 - np.arange(start=0, stop=1.1, step=0.1)\n",
    "})\n",
    "print(prob_df.head(3))"
   ]
  },
  {
   "cell_type": "code",
   "execution_count": 12,
   "metadata": {},
   "outputs": [
    {
     "name": "stdout",
     "output_type": "stream",
     "text": [
      "    p1   p2  entropy\n",
      "0  0.0  1.0    0.000\n",
      "1  0.1  0.9    0.469\n",
      "2  0.2  0.8    0.722\n"
     ]
    }
   ],
   "source": [
    "# エントロピーの列を作る\n",
    "prob_df['entropy'] = prob_df[['p1', 'p2']].apply(entropy, axis=1, base=2)\n",
    "print(prob_df.head(3))"
   ]
  },
  {
   "cell_type": "code",
   "execution_count": 13,
   "metadata": {},
   "outputs": [
    {
     "data": {
      "text/plain": [
       "<matplotlib.axes._subplots.AxesSubplot at 0x29422c3d9a0>"
      ]
     },
     "execution_count": 13,
     "metadata": {},
     "output_type": "execute_result"
    },
    {
     "data": {
      "image/png": "[encoded data removed]",
      "text/plain": [
       "<Figure size 432x288 with 1 Axes>"
      ]
     },
     "metadata": {
      "needs_background": "light"
     },
     "output_type": "display_data"
    }
   ],
   "source": [
    "prob_df.plot(x='p1', y='entropy')"
   ]
  },
  {
   "cell_type": "markdown",
   "metadata": {},
   "source": [
    "### Pythonによる相互情報量の計算"
   ]
  },
  {
   "cell_type": "markdown",
   "metadata": {},
   "source": [
    "##### 同時分布・周辺分布・条件付き分布"
   ]
  },
  {
   "cell_type": "code",
   "execution_count": 14,
   "metadata": {},
   "outputs": [
    {
     "name": "stdout",
     "output_type": "stream",
     "text": [
      "      好況予測  不況予測\n",
      "好況      0.35      0.05\n",
      "不況      0.10      0.50\n"
     ]
    }
   ],
   "source": [
    "joint_forecast_state = pd.DataFrame({\n",
    "    '好況予測': [0.35, 0.1],\n",
    "    '不況予測': [0.05, 0.5]\n",
    "})\n",
    "joint_forecast_state.index = ['好況', '不況']\n",
    "print(joint_forecast_state)"
   ]
  },
  {
   "cell_type": "code",
   "execution_count": 15,
   "metadata": {},
   "outputs": [
    {
     "data": {
      "text/plain": [
       "好況予測    0.45\n",
       "不況予測    0.55\n",
       "dtype: float64"
      ]
     },
     "execution_count": 15,
     "metadata": {},
     "output_type": "execute_result"
    }
   ],
   "source": [
    "marginal_forecast = joint_forecast_state.sum(axis=0)\n",
    "marginal_forecast"
   ]
  },
  {
   "cell_type": "code",
   "execution_count": 16,
   "metadata": {},
   "outputs": [
    {
     "data": {
      "text/plain": [
       "好況    0.4\n",
       "不況    0.6\n",
       "dtype: float64"
      ]
     },
     "execution_count": 16,
     "metadata": {},
     "output_type": "execute_result"
    }
   ],
   "source": [
    "marginal_state = joint_forecast_state.sum(axis=1)\n",
    "marginal_state"
   ]
  },
  {
   "cell_type": "code",
   "execution_count": 17,
   "metadata": {},
   "outputs": [
    {
     "name": "stdout",
     "output_type": "stream",
     "text": [
      "      好況予測  不況予測\n",
      "好況     0.778     0.091\n",
      "不況     0.222     0.909\n"
     ]
    }
   ],
   "source": [
    "# 予測が得られた後の条件付き分布\n",
    "conditional_forecast = joint_forecast_state.div(marginal_forecast, axis=1)\n",
    "print(conditional_forecast)"
   ]
  },
  {
   "cell_type": "markdown",
   "metadata": {},
   "source": [
    "#### 条件付きエントロピー"
   ]
  },
  {
   "cell_type": "code",
   "execution_count": 18,
   "metadata": {},
   "outputs": [
    {
     "data": {
      "text/plain": [
       "好況予測    0.764\n",
       "不況予測    0.439\n",
       "dtype: float64"
      ]
     },
     "execution_count": 18,
     "metadata": {},
     "output_type": "execute_result"
    }
   ],
   "source": [
    "# 予測結果ごとの不確実性\n",
    "H_by_f = conditional_forecast.apply(entropy, axis=0, base=2)\n",
    "H_by_f"
   ]
  },
  {
   "cell_type": "code",
   "execution_count": 19,
   "metadata": {},
   "outputs": [
    {
     "name": "stdout",
     "output_type": "stream",
     "text": [
      "0.586\n"
     ]
    }
   ],
   "source": [
    "# 予測が得られた後の条件付きエントロピー\n",
    "H_conditional = H_by_f.mul(marginal_forecast).sum()\n",
    "print(f'{H_conditional:.3g}')"
   ]
  },
  {
   "cell_type": "markdown",
   "metadata": {},
   "source": [
    "#### 相互情報量"
   ]
  },
  {
   "cell_type": "code",
   "execution_count": 20,
   "metadata": {},
   "outputs": [
    {
     "name": "stdout",
     "output_type": "stream",
     "text": [
      "0.971\n"
     ]
    }
   ],
   "source": [
    "# 景気に対する、もともとの不確実性\n",
    "H_state = entropy(marginal_state, base=2)\n",
    "print(f'{H_state:.3g}')"
   ]
  },
  {
   "cell_type": "code",
   "execution_count": 21,
   "metadata": {},
   "outputs": [
    {
     "name": "stdout",
     "output_type": "stream",
     "text": [
      "0.385\n"
     ]
    }
   ],
   "source": [
    "# 予測によって減少した不確実性\n",
    "# 予測が持っている情報量\n",
    "# 相互情報量\n",
    "MI = H_state - H_conditional\n",
    "print(f'{MI:.3g}')"
   ]
  },
  {
   "cell_type": "markdown",
   "metadata": {},
   "source": [
    "### 相互情報量の計算例"
   ]
  },
  {
   "cell_type": "code",
   "execution_count": 22,
   "metadata": {},
   "outputs": [],
   "source": [
    "def calc_mi(joint_prob_df):\n",
    "    marginal_forecast = joint_prob_df.sum(axis=0)\n",
    "    marginal_state = joint_prob_df.sum(axis=1)\n",
    "    conditional_forecast = joint_prob_df.div(marginal_forecast, axis=1)\n",
    "    H_by_f = conditional_forecast.apply(entropy, axis=0, base=2)\n",
    "    H_conditional = H_by_f.mul(marginal_forecast).sum()\n",
    "    H_state = entropy(marginal_state, base=2)\n",
    "    MI = H_state - H_conditional\n",
    "    return(MI)"
   ]
  },
  {
   "cell_type": "code",
   "execution_count": 23,
   "metadata": {},
   "outputs": [
    {
     "name": "stdout",
     "output_type": "stream",
     "text": [
      "需要予測の相互情報量：0.385\n"
     ]
    }
   ],
   "source": [
    "print(f'需要予測の相互情報量：{calc_mi(joint_forecast_state):.3g}')"
   ]
  },
  {
   "cell_type": "markdown",
   "metadata": {},
   "source": [
    "#### コインを投げて表なら好況、裏なら不況と主張する情報"
   ]
  },
  {
   "cell_type": "code",
   "execution_count": 24,
   "metadata": {},
   "outputs": [
    {
     "name": "stdout",
     "output_type": "stream",
     "text": [
      "      好況予測  不況予測\n",
      "好況       0.2       0.2\n",
      "不況       0.3       0.3\n"
     ]
    }
   ],
   "source": [
    "coin_result = pd.DataFrame({\n",
    "    '好況予測': [0.2, 0.3],\n",
    "    '不況予測': [0.2, 0.3]\n",
    "})\n",
    "coin_result.index = ['好況', '不況']\n",
    "print(coin_result)"
   ]
  },
  {
   "cell_type": "code",
   "execution_count": 25,
   "metadata": {},
   "outputs": [
    {
     "name": "stdout",
     "output_type": "stream",
     "text": [
      "コイン投げの相互情報量：0\n"
     ]
    }
   ],
   "source": [
    "print(f'コイン投げの相互情報量：{calc_mi(coin_result):.3g}')"
   ]
  },
  {
   "cell_type": "markdown",
   "metadata": {},
   "source": [
    "#### 完全情報"
   ]
  },
  {
   "cell_type": "code",
   "execution_count": 26,
   "metadata": {},
   "outputs": [
    {
     "name": "stdout",
     "output_type": "stream",
     "text": [
      "      好況予測  不況予測\n",
      "好況       0.4       0.0\n",
      "不況       0.0       0.6\n"
     ]
    }
   ],
   "source": [
    "perfect_forecast = pd.DataFrame({\n",
    "    '好況予測': [0.4, 0],\n",
    "    '不況予測': [0, 0.6]\n",
    "})\n",
    "perfect_forecast.index = ['好況', '不況']\n",
    "print(perfect_forecast)"
   ]
  },
  {
   "cell_type": "code",
   "execution_count": 27,
   "metadata": {},
   "outputs": [
    {
     "name": "stdout",
     "output_type": "stream",
     "text": [
      "完全情報の相互情報量：0.971\n"
     ]
    }
   ],
   "source": [
    "print(f'完全情報の相互情報量：{calc_mi(perfect_forecast):.3g}')"
   ]
  },
  {
   "cell_type": "code",
   "execution_count": 28,
   "metadata": {},
   "outputs": [
    {
     "name": "stdout",
     "output_type": "stream",
     "text": [
      "自然の状態が持つ不確実性：0.971\n"
     ]
    }
   ],
   "source": [
    "# 景気に対する、もともとの不確実性\n",
    "marginal_state = perfect_forecast.sum(axis=1)\n",
    "H_state = entropy(marginal_state, base=2)\n",
    "print(f'自然の状態が持つ不確実性：{H_state:.3g}')"
   ]
  },
  {
   "cell_type": "markdown",
   "metadata": {},
   "source": [
    "#### 予測値と実測値が完全に逆になる場合"
   ]
  },
  {
   "cell_type": "code",
   "execution_count": 29,
   "metadata": {},
   "outputs": [
    {
     "name": "stdout",
     "output_type": "stream",
     "text": [
      "      好況予測  不況予測\n",
      "好況       0.0       0.4\n",
      "不況       0.6       0.0\n"
     ]
    }
   ],
   "source": [
    "perversity_forecast = pd.DataFrame({\n",
    "    '好況予測': [0, 0.6],\n",
    "    '不況予測': [0.4, 0]\n",
    "})\n",
    "perversity_forecast.index = ['好況', '不況']\n",
    "print(perversity_forecast)"
   ]
  },
  {
   "cell_type": "code",
   "execution_count": 30,
   "metadata": {},
   "outputs": [
    {
     "name": "stdout",
     "output_type": "stream",
     "text": [
      "常に逆を提示する情報の相互情報量：0.971\n"
     ]
    }
   ],
   "source": [
    "print(f'常に逆を提示する情報の相互情報量：{calc_mi(perversity_forecast):.3g}')"
   ]
  },
  {
   "cell_type": "markdown",
   "metadata": {},
   "source": [
    "### Pythonによる相対エントロピーの計算"
   ]
  },
  {
   "cell_type": "code",
   "execution_count": 31,
   "metadata": {},
   "outputs": [],
   "source": [
    "# 予測値別に、条件付き分布を取得\n",
    "conditional_boom = conditional_forecast['好況予測']\n",
    "conditional_slump = conditional_forecast['不況予測']"
   ]
  },
  {
   "cell_type": "code",
   "execution_count": 32,
   "metadata": {},
   "outputs": [
    {
     "data": {
      "text/plain": [
       "0.4277319215518185"
      ]
     },
     "execution_count": 32,
     "metadata": {},
     "output_type": "execute_result"
    }
   ],
   "source": [
    "# 相対エントロピーの計算\n",
    "conditional_boom[0] * np.log2(conditional_boom[0] / marginal_state[0]) + \\\n",
    "    conditional_boom[1] * np.log2(conditional_boom[1] / marginal_state[1])"
   ]
  },
  {
   "cell_type": "markdown",
   "metadata": {},
   "source": [
    "#### entropy関数を使う"
   ]
  },
  {
   "cell_type": "code",
   "execution_count": 33,
   "metadata": {},
   "outputs": [
    {
     "name": "stdout",
     "output_type": "stream",
     "text": [
      "好況予測の相対エントロピー：0.428\n"
     ]
    }
   ],
   "source": [
    "KL_boom = entropy(conditional_boom, base=2, qk=marginal_state)\n",
    "print(f'好況予測の相対エントロピー：{KL_boom:.3g}')"
   ]
  },
  {
   "cell_type": "code",
   "execution_count": 34,
   "metadata": {},
   "outputs": [
    {
     "name": "stdout",
     "output_type": "stream",
     "text": [
      "不況予測の相対エントロピー：0.351\n"
     ]
    }
   ],
   "source": [
    "KL_slump = entropy(conditional_slump, base=2, qk=marginal_state)\n",
    "print(f'不況予測の相対エントロピー：{KL_slump:.3g}')"
   ]
  },
  {
   "cell_type": "markdown",
   "metadata": {},
   "source": [
    "#### apply関数を使って一気に実行"
   ]
  },
  {
   "cell_type": "code",
   "execution_count": 35,
   "metadata": {
    "scrolled": true
   },
   "outputs": [
    {
     "data": {
      "text/plain": [
       "好況予測    0.428\n",
       "不況予測    0.351\n",
       "dtype: float64"
      ]
     },
     "execution_count": 35,
     "metadata": {},
     "output_type": "execute_result"
    }
   ],
   "source": [
    "KL = conditional_forecast.apply(entropy, axis=0, base=2, qk=marginal_state)\n",
    "KL"
   ]
  },
  {
   "cell_type": "markdown",
   "metadata": {},
   "source": [
    "### 相対エントロピーの性質"
   ]
  },
  {
   "cell_type": "code",
   "execution_count": 36,
   "metadata": {},
   "outputs": [
    {
     "name": "stdout",
     "output_type": "stream",
     "text": [
      "好況予測の相対エントロピー　　　　：0.428\n",
      "好況予測の相対エントロピー(順序逆)：0.476\n"
     ]
    }
   ],
   "source": [
    "KL_boom_2 = entropy(marginal_state, base=2, qk=conditional_boom)\n",
    "print(f'好況予測の相対エントロピー　　　　：{KL_boom:.3g}')\n",
    "print(f'好況予測の相対エントロピー(順序逆)：{KL_boom_2:.3g}')"
   ]
  },
  {
   "cell_type": "markdown",
   "metadata": {},
   "source": [
    "### 相対エントロピーと相互情報量の関係"
   ]
  },
  {
   "cell_type": "code",
   "execution_count": 37,
   "metadata": {},
   "outputs": [],
   "source": [
    "# 相対エントロピーの期待値\n",
    "mean_KL = KL.mul(marginal_forecast).sum()"
   ]
  },
  {
   "cell_type": "code",
   "execution_count": 38,
   "metadata": {},
   "outputs": [
    {
     "name": "stdout",
     "output_type": "stream",
     "text": [
      "相対エントロピーの期待値：0.385\n",
      "需要予測の相互情報量　　：0.385\n"
     ]
    }
   ],
   "source": [
    "# 相対エントロピーの期待値は、相互情報量と等しい\n",
    "print(f'相対エントロピーの期待値：{mean_KL:.3g}')\n",
    "print(f'需要予測の相互情報量　　：{calc_mi(joint_forecast_state):.3g}')"
   ]
  }
 ],
 "metadata": {
  "kernelspec": {
   "display_name": "Python 3",
   "language": "python",
   "name": "python3"
  },
  "language_info": {
   "codemirror_mode": {
    "name": "ipython",
    "version": 3
   },
   "file_extension": ".py",
   "mimetype": "text/x-python",
   "name": "python",
   "nbconvert_exporter": "python",
   "pygments_lexer": "ipython3",
   "version": "3.8.3"
  }
 },
 "nbformat": 4,
 "nbformat_minor": 4
}
