{
 "cells": [
  {
   "cell_type": "markdown",
   "metadata": {},
   "source": [
    "# 意思決定分析と予測の活用｜第5部　確率予測とその活用\n",
    "https://logics-of-blue.com/decision-analysis-and-forecast-book-support/"
   ]
  },
  {
   "cell_type": "markdown",
   "metadata": {},
   "source": [
    "## 第2章　確率予測の活用"
   ]
  },
  {
   "cell_type": "markdown",
   "metadata": {},
   "source": [
    "### Pythonによる分析の準備"
   ]
  },
  {
   "cell_type": "code",
   "execution_count": 1,
   "metadata": {},
   "outputs": [],
   "source": [
    "# 数値計算に使うライブラリ\n",
    "import numpy as np\n",
    "import pandas as pd\n",
    "\n",
    "# DataFrameの全角文字の出力をきれいにする\n",
    "pd.set_option('display.unicode.east_asian_width', True)\n",
    "# 本文の数値とあわせるために、小数点以下3桁で丸める\n",
    "pd.set_option('display.precision', 3)\n",
    "%precision 3\n",
    "\n",
    "# グラフ描画\n",
    "import matplotlib.pyplot as plt\n",
    "import seaborn as sns\n",
    "sns.set()\n",
    "\n",
    "# グラフの日本語表記\n",
    "from matplotlib import rcParams\n",
    "rcParams['font.family'] = 'sans-serif'\n",
    "rcParams['font.sans-serif'] = 'Meiryo'\n",
    "\n",
    "# sklearn関連\n",
    "from sklearn.model_selection import train_test_split\n",
    "from sklearn.linear_model import LogisticRegression\n",
    "from sklearn.metrics import (accuracy_score, precision_score, recall_score, \n",
    "    f1_score, confusion_matrix, brier_score_loss, roc_curve, \n",
    "    plot_roc_curve, auc)\n",
    "from sklearn.calibration import calibration_curve"
   ]
  },
  {
   "cell_type": "markdown",
   "metadata": {},
   "source": [
    "### データ準備"
   ]
  },
  {
   "cell_type": "code",
   "execution_count": 2,
   "metadata": {},
   "outputs": [
    {
     "name": "stdout",
     "output_type": "stream",
     "text": [
      "     y    X_1    X_2    X_3    X_4\n",
      "0  1.0  2.952  1.057  0.622  2.558\n",
      "1  0.0 -0.953 -2.613  0.083 -0.826\n",
      "2  1.0 -0.680  0.513 -0.450 -0.590\n"
     ]
    }
   ],
   "source": [
    "# データの読み込み\n",
    "data = pd.read_csv('5-2-sample-data.csv', index_col=0)\n",
    "print(data.head(3))"
   ]
  },
  {
   "cell_type": "code",
   "execution_count": 3,
   "metadata": {},
   "outputs": [],
   "source": [
    "y = data.iloc[:, 0]  # 応答変数\n",
    "X = data.iloc[:, 1:] # 説明変数"
   ]
  },
  {
   "cell_type": "markdown",
   "metadata": {},
   "source": [
    "### 訓練データとテストデータへの分割"
   ]
  },
  {
   "cell_type": "code",
   "execution_count": 4,
   "metadata": {},
   "outputs": [],
   "source": [
    "# 訓練データとテストデータに分割\n",
    "X_train, X_test, y_train, y_test = train_test_split(X, y, test_size=0.4,\n",
    "                                                    random_state=1)"
   ]
  },
  {
   "cell_type": "code",
   "execution_count": 5,
   "metadata": {},
   "outputs": [
    {
     "name": "stdout",
     "output_type": "stream",
     "text": [
      "訓練データ　 (6000, 4)\n",
      "テストデータ (4000, 4)\n"
     ]
    }
   ],
   "source": [
    "print('訓練データ　', X_train.shape)\n",
    "print('テストデータ', X_test.shape)"
   ]
  },
  {
   "cell_type": "markdown",
   "metadata": {},
   "source": [
    "### ロジスティック回帰モデルによる予測"
   ]
  },
  {
   "cell_type": "code",
   "execution_count": 6,
   "metadata": {},
   "outputs": [],
   "source": [
    "# ロジスティック回帰\n",
    "mod_logistic = LogisticRegression().fit(X_train, y_train)"
   ]
  },
  {
   "cell_type": "code",
   "execution_count": 7,
   "metadata": {},
   "outputs": [
    {
     "data": {
      "text/plain": [
       "array([0., 1., 1., ..., 0., 1., 1.])"
      ]
     },
     "execution_count": 7,
     "metadata": {},
     "output_type": "execute_result"
    }
   ],
   "source": [
    "# カテゴリー予測\n",
    "category_pred = mod_logistic.predict(X_test)\n",
    "category_pred"
   ]
  },
  {
   "cell_type": "code",
   "execution_count": 8,
   "metadata": {},
   "outputs": [
    {
     "data": {
      "text/plain": [
       "array([0.183, 1.   , 0.837, ..., 0.02 , 0.752, 0.92 ])"
      ]
     },
     "execution_count": 8,
     "metadata": {},
     "output_type": "execute_result"
    }
   ],
   "source": [
    "# 確率予測\n",
    "prob_pred = mod_logistic.predict_proba(X_test)[:, 1]\n",
    "prob_pred"
   ]
  },
  {
   "cell_type": "markdown",
   "metadata": {},
   "source": [
    "### カテゴリー予測の評価"
   ]
  },
  {
   "cell_type": "markdown",
   "metadata": {},
   "source": [
    "#### 指標を使った評価"
   ]
  },
  {
   "cell_type": "code",
   "execution_count": 9,
   "metadata": {},
   "outputs": [
    {
     "name": "stdout",
     "output_type": "stream",
     "text": [
      "的中率：0.876\n",
      "適合率：0.879\n",
      "再現率：0.868\n",
      "F値　 ：0.874\n"
     ]
    }
   ],
   "source": [
    "# 分割表から計算される各種指標\n",
    "print(f'的中率：{accuracy_score(y_test, category_pred):.3g}')\n",
    "print(f'適合率：{precision_score(y_test, category_pred):.3g}')\n",
    "print(f'再現率：{recall_score(y_test, category_pred):.3g}')\n",
    "print(f'F値　 ：{f1_score(y_test, category_pred):.3g}')"
   ]
  },
  {
   "cell_type": "markdown",
   "metadata": {},
   "source": [
    "#### 分割表による評価"
   ]
  },
  {
   "cell_type": "code",
   "execution_count": 10,
   "metadata": {},
   "outputs": [
    {
     "data": {
      "text/plain": [
       "array([[1800,  235],\n",
       "       [ 259, 1706]], dtype=int64)"
      ]
     },
     "execution_count": 10,
     "metadata": {},
     "output_type": "execute_result"
    }
   ],
   "source": [
    "# 分割表\n",
    "confusion_matrix(y_test, category_pred)"
   ]
  },
  {
   "cell_type": "code",
   "execution_count": 11,
   "metadata": {},
   "outputs": [
    {
     "data": {
      "text/plain": [
       "1800"
      ]
     },
     "execution_count": 11,
     "metadata": {},
     "output_type": "execute_result"
    }
   ],
   "source": [
    "# 参考：True Negative(的中)\n",
    "sum((y_test == category_pred) & (y_test == 0))"
   ]
  },
  {
   "cell_type": "code",
   "execution_count": 12,
   "metadata": {},
   "outputs": [
    {
     "data": {
      "text/plain": [
       "1706"
      ]
     },
     "execution_count": 12,
     "metadata": {},
     "output_type": "execute_result"
    }
   ],
   "source": [
    "# 参考：True Positive(的中)\n",
    "sum((y_test == category_pred) & (y_test == 1))"
   ]
  },
  {
   "cell_type": "code",
   "execution_count": 13,
   "metadata": {},
   "outputs": [
    {
     "data": {
      "text/plain": [
       "259"
      ]
     },
     "execution_count": 13,
     "metadata": {},
     "output_type": "execute_result"
    }
   ],
   "source": [
    "# 参考：False Positive(見逃し)\n",
    "sum((y_test != category_pred) & (y_test == 1))"
   ]
  },
  {
   "cell_type": "code",
   "execution_count": 14,
   "metadata": {},
   "outputs": [
    {
     "data": {
      "text/plain": [
       "235"
      ]
     },
     "execution_count": 14,
     "metadata": {},
     "output_type": "execute_result"
    }
   ],
   "source": [
    "# 参考：False Negative(空振り)\n",
    "sum((y_test != category_pred) & (y_test == 0))"
   ]
  },
  {
   "cell_type": "code",
   "execution_count": 15,
   "metadata": {},
   "outputs": [
    {
     "data": {
      "text/plain": [
       "array([[0.45 , 0.059],\n",
       "       [0.065, 0.426]])"
      ]
     },
     "execution_count": 15,
     "metadata": {},
     "output_type": "execute_result"
    }
   ],
   "source": [
    "# 参考：同時分布\n",
    "confusion_matrix(y_test, category_pred, normalize='all')"
   ]
  },
  {
   "cell_type": "code",
   "execution_count": 16,
   "metadata": {},
   "outputs": [
    {
     "data": {
      "text/plain": [
       "array([[0.874, 0.121],\n",
       "       [0.126, 0.879]])"
      ]
     },
     "execution_count": 16,
     "metadata": {},
     "output_type": "execute_result"
    }
   ],
   "source": [
    "# 参考：予測の条件付き分布\n",
    "confusion_matrix(y_test, category_pred, normalize='pred')"
   ]
  },
  {
   "cell_type": "code",
   "execution_count": 17,
   "metadata": {},
   "outputs": [
    {
     "data": {
      "text/plain": [
       "array([[0.885, 0.115],\n",
       "       [0.132, 0.868]])"
      ]
     },
     "execution_count": 17,
     "metadata": {},
     "output_type": "execute_result"
    }
   ],
   "source": [
    "# 自然の状態の条件付き分布\n",
    "conditional_state = confusion_matrix(y_test, category_pred, normalize='true')\n",
    "conditional_state"
   ]
  },
  {
   "cell_type": "code",
   "execution_count": 18,
   "metadata": {},
   "outputs": [
    {
     "name": "stdout",
     "output_type": "stream",
     "text": [
      "TPR(真陽性率)：0.868\n",
      "FPR(偽陽性率)：0.115\n"
     ]
    }
   ],
   "source": [
    "# 真陽性率と偽陽性率\n",
    "print(f'TPR(真陽性率)：{conditional_state[1,1]:.3g}')\n",
    "print(f'FPR(偽陽性率)：{conditional_state[0,1]:.3g}')"
   ]
  },
  {
   "cell_type": "code",
   "execution_count": 19,
   "metadata": {},
   "outputs": [
    {
     "name": "stdout",
     "output_type": "stream",
     "text": [
      "TPR(真陽性率)：0.868\n",
      "FPR(偽陽性率)：0.115\n"
     ]
    }
   ],
   "source": [
    "# 参考：度数から真陽性率と偽陽性率を計算する\n",
    "freq_mat = confusion_matrix(y_test, category_pred)\n",
    "print(f'TPR(真陽性率)：{(freq_mat[1,1] / (freq_mat[1,1] + freq_mat[1,0])):.3g}')\n",
    "print(f'FPR(偽陽性率)：{(freq_mat[0,1] / (freq_mat[0,1] + freq_mat[0,0])):.3g}')"
   ]
  },
  {
   "cell_type": "markdown",
   "metadata": {},
   "source": [
    "### ブライアスコアによる確率予測の評価"
   ]
  },
  {
   "cell_type": "code",
   "execution_count": 20,
   "metadata": {},
   "outputs": [
    {
     "data": {
      "text/plain": [
       "0.089"
      ]
     },
     "execution_count": 20,
     "metadata": {},
     "output_type": "execute_result"
    }
   ],
   "source": [
    "# ブライアスコア\n",
    "sum((prob_pred - y_test)**2) / len(y_test)"
   ]
  },
  {
   "cell_type": "code",
   "execution_count": 21,
   "metadata": {},
   "outputs": [
    {
     "name": "stdout",
     "output_type": "stream",
     "text": [
      "ブライアスコア：0.0894\n"
     ]
    }
   ],
   "source": [
    "# ブライアスコア\n",
    "BS = brier_score_loss(y_test, prob_pred)\n",
    "print(f'ブライアスコア：{BS:.3g}')"
   ]
  },
  {
   "cell_type": "code",
   "execution_count": 22,
   "metadata": {},
   "outputs": [],
   "source": [
    "# 平均的な問題発生率\n",
    "p_naive = sum(y_test) / len(y_test)\n",
    "# BS_naive\n",
    "BS_naive = brier_score_loss(y_test, np.repeat(p_naive, len(y_test)))"
   ]
  },
  {
   "cell_type": "code",
   "execution_count": 23,
   "metadata": {},
   "outputs": [
    {
     "name": "stdout",
     "output_type": "stream",
     "text": [
      "ブライアスキルスコア：0.642\n"
     ]
    }
   ],
   "source": [
    "# ブライアスキルスコア\n",
    "BSS = (BS_naive - BS) / BS_naive\n",
    "print(f'ブライアスキルスコア：{BSS:.3g}')"
   ]
  },
  {
   "cell_type": "markdown",
   "metadata": {},
   "source": [
    "### 信頼度曲線"
   ]
  },
  {
   "cell_type": "code",
   "execution_count": 24,
   "metadata": {},
   "outputs": [],
   "source": [
    "# 信頼度曲線を描くための区分ごと集計値\n",
    "prob_true_class, prob_pred_class = calibration_curve(y_test, prob_pred, \n",
    "                                                     n_bins=11)"
   ]
  },
  {
   "cell_type": "code",
   "execution_count": 25,
   "metadata": {},
   "outputs": [
    {
     "data": {
      "text/plain": [
       "array([0.029, 0.134, 0.225, 0.316, 0.409, 0.498, 0.596, 0.683, 0.774,\n",
       "       0.869, 0.977])"
      ]
     },
     "execution_count": 25,
     "metadata": {},
     "output_type": "execute_result"
    }
   ],
   "source": [
    "# 参考：予測された確率\n",
    "prob_pred_class"
   ]
  },
  {
   "cell_type": "code",
   "execution_count": 26,
   "metadata": {},
   "outputs": [
    {
     "data": {
      "text/plain": [
       "array([0.04 , 0.132, 0.195, 0.268, 0.362, 0.478, 0.55 , 0.67 , 0.67 ,\n",
       "       0.867, 0.981])"
      ]
     },
     "execution_count": 26,
     "metadata": {},
     "output_type": "execute_result"
    }
   ],
   "source": [
    "# 参考：正しい確率\n",
    "prob_true_class"
   ]
  },
  {
   "cell_type": "code",
   "execution_count": 27,
   "metadata": {},
   "outputs": [
    {
     "data": {
      "text/plain": [
       "Text(0, 0.5, '実際の確率')"
      ]
     },
     "execution_count": 27,
     "metadata": {},
     "output_type": "execute_result"
    },
    {
     "data": {
      "image/png": "[encoded data removed]",
      "text/plain": [
       "<Figure size 504x288 with 1 Axes>"
      ]
     },
     "metadata": {},
     "output_type": "display_data"
    }
   ],
   "source": [
    "# 描画オブジェクトを生成\n",
    "fig, ax = plt.subplots(figsize=(7, 4))\n",
    "\n",
    "# 信頼度曲線\n",
    "ax.plot(prob_pred_class, prob_true_class, marker='s', \n",
    "        label='ロジスティック回帰')\n",
    "\n",
    "# 信頼度エラーが0となる基準線\n",
    "ax.plot([0, 1], [0, 1], linestyle='--', label='信頼度エラーが0となる基準線')\n",
    "\n",
    "# グラフの装飾\n",
    "ax.legend()                              # 凡例\n",
    "ax.set_title('信頼度曲線', fontsize=15)  # タイトル\n",
    "ax.set_xlabel('予測された確率')          # X軸ラベル\n",
    "ax.set_ylabel('実際の確率')              # Y軸ラベル"
   ]
  },
  {
   "cell_type": "markdown",
   "metadata": {},
   "source": [
    "### Sharpnessの評価"
   ]
  },
  {
   "cell_type": "code",
   "execution_count": 28,
   "metadata": {},
   "outputs": [
    {
     "data": {
      "text/plain": [
       "Text(0, 0.5, '度数')"
      ]
     },
     "execution_count": 28,
     "metadata": {},
     "output_type": "execute_result"
    },
    {
     "data": {
      "image/png": "[encoded data removed]",
      "text/plain": [
       "<Figure size 504x288 with 1 Axes>"
      ]
     },
     "metadata": {},
     "output_type": "display_data"
    }
   ],
   "source": [
    "# 描画オブジェクトを生成\n",
    "fig, ax = plt.subplots(figsize=(7, 4))\n",
    "\n",
    "# 予測された確率のヒストグラム\n",
    "ax.hist(prob_pred, bins=11)\n",
    "\n",
    "# グラフの装飾\n",
    "ax.set_title('予測された確率のヒストグラム', fontsize=15)  # タイトル\n",
    "ax.set_xlabel('予測された確率')                            # X軸ラベル\n",
    "ax.set_ylabel('度数')                                      # Y軸ラベル"
   ]
  },
  {
   "cell_type": "markdown",
   "metadata": {},
   "source": [
    "### 確率予測をカテゴリー予測に変換する"
   ]
  },
  {
   "cell_type": "code",
   "execution_count": 29,
   "metadata": {},
   "outputs": [],
   "source": [
    "# 確率予測をカテゴリー予測に変換する関数\n",
    "def prob_to_category(prob_pred, threshold):\n",
    "    return((prob_pred >= threshold).astype(int))"
   ]
  },
  {
   "cell_type": "code",
   "execution_count": 30,
   "metadata": {},
   "outputs": [
    {
     "data": {
      "text/plain": [
       "array([0, 1, 1, ..., 0, 1, 1])"
      ]
     },
     "execution_count": 30,
     "metadata": {},
     "output_type": "execute_result"
    }
   ],
   "source": [
    "# 参考：カテゴリー予測に変換された予測値\n",
    "prob_to_category(prob_pred, 0.5)"
   ]
  },
  {
   "cell_type": "code",
   "execution_count": 31,
   "metadata": {},
   "outputs": [
    {
     "data": {
      "text/plain": [
       "True"
      ]
     },
     "execution_count": 31,
     "metadata": {},
     "output_type": "execute_result"
    }
   ],
   "source": [
    "# カテゴリー予測と等しくなることの確認\n",
    "all(category_pred == prob_to_category(prob_pred, 0.5))"
   ]
  },
  {
   "cell_type": "code",
   "execution_count": 32,
   "metadata": {},
   "outputs": [],
   "source": [
    "# 予測の分割表を作る関数\n",
    "def prob_to_mat(prob_pred, threshold, y_true, print_acc=True):\n",
    "    # 確率予測をカテゴリー予測に変換\n",
    "    category_pred = prob_to_category(prob_pred, threshold)\n",
    "    # 必要に応じて、指標をprintする\n",
    "    if(print_acc):\n",
    "        conditional_state = confusion_matrix(y_true, category_pred, \n",
    "                                             normalize='true')\n",
    "        print(f'的中率       ：{accuracy_score(y_true, category_pred):.3g}')\n",
    "        print(f'TPR(真陽性率)：{conditional_state[1,1]:.3g}')\n",
    "        print(f'FPR(偽陽性率)：{conditional_state[0,1]:.3g}')\n",
    "        \n",
    "    # DataFrameに変換した分割表を返す\n",
    "    joint_forecast_state = pd.DataFrame(\n",
    "        confusion_matrix(y_true, category_pred, normalize='all'), \n",
    "        columns=['予測-問題なし', '予測-問題あり'],\n",
    "        index=['問題なし', '問題あり'])\n",
    "    return(joint_forecast_state)"
   ]
  },
  {
   "cell_type": "code",
   "execution_count": 33,
   "metadata": {
    "scrolled": true
   },
   "outputs": [
    {
     "name": "stdout",
     "output_type": "stream",
     "text": [
      "的中率       ：0.876\n",
      "TPR(真陽性率)：0.868\n",
      "FPR(偽陽性率)：0.115\n",
      "          予測-問題なし  予測-問題あり\n",
      "問題なし          0.450          0.059\n",
      "問題あり          0.065          0.426\n"
     ]
    }
   ],
   "source": [
    "print(prob_to_mat(prob_pred, 0.5, y_test))"
   ]
  },
  {
   "cell_type": "markdown",
   "metadata": {},
   "source": [
    "### ROC曲線とAUC"
   ]
  },
  {
   "cell_type": "code",
   "execution_count": 34,
   "metadata": {},
   "outputs": [
    {
     "name": "stdout",
     "output_type": "stream",
     "text": [
      "的中率       ：0.76\n",
      "TPR(真陽性率)：0.975\n",
      "FPR(偽陽性率)：0.448\n"
     ]
    }
   ],
   "source": [
    "# TPRとFPR　「あり予測」を増やすことで、空振りを増やし、見逃しを減らす\n",
    "tmp = prob_to_mat(prob_pred, 0.1, y_test)"
   ]
  },
  {
   "cell_type": "code",
   "execution_count": 35,
   "metadata": {},
   "outputs": [
    {
     "name": "stdout",
     "output_type": "stream",
     "text": [
      "的中率       ：0.812\n",
      "TPR(真陽性率)：0.632\n",
      "FPR(偽陽性率)：0.0133\n"
     ]
    }
   ],
   "source": [
    "# TPRとFPR　「あり予測」を減らすことで、空振りを減らし、見逃しを増やす\n",
    "tmp = prob_to_mat(prob_pred, 0.9, y_test)"
   ]
  },
  {
   "cell_type": "code",
   "execution_count": 36,
   "metadata": {},
   "outputs": [
    {
     "data": {
      "text/plain": [
       "Text(0, 0.5, '真陽性率')"
      ]
     },
     "execution_count": 36,
     "metadata": {},
     "output_type": "execute_result"
    },
    {
     "data": {
      "image/png": "[encoded data removed]",
      "text/plain": [
       "<Figure size 504x288 with 1 Axes>"
      ]
     },
     "metadata": {},
     "output_type": "display_data"
    }
   ],
   "source": [
    "# 真陽性率と偽陽性率、閾値を得る\n",
    "fpr, tpr, threshold = roc_curve(y_test, prob_pred)\n",
    "\n",
    "# 描画オブジェクトを生成\n",
    "fig, ax = plt.subplots(figsize=(7, 4))\n",
    "\n",
    "# 信頼度曲線\n",
    "ax.step(fpr, tpr, label='ロジスティック回帰のROC曲線')\n",
    "\n",
    "# まったく役に立たない予測だった場合のROC曲線\n",
    "ax.plot([0, 1], [0, 1], linestyle='--')\n",
    "\n",
    "# グラフの装飾\n",
    "ax.legend()                           # 凡例\n",
    "ax.set_title('ROC曲線', fontsize=15)  # タイトル\n",
    "ax.set_xlabel('偽陽性率')             # X軸ラベル\n",
    "ax.set_ylabel('真陽性率')             # Y軸ラベル"
   ]
  },
  {
   "cell_type": "code",
   "execution_count": 37,
   "metadata": {},
   "outputs": [
    {
     "data": {
      "text/plain": [
       "[<matplotlib.lines.Line2D at 0x1fa2e4077c0>]"
      ]
     },
     "execution_count": 37,
     "metadata": {},
     "output_type": "execute_result"
    },
    {
     "data": {
      "image/png": "[encoded data removed]",
      "text/plain": [
       "<Figure size 504x288 with 1 Axes>"
      ]
     },
     "metadata": {},
     "output_type": "display_data"
    }
   ],
   "source": [
    "# 参考：簡易的な描画方法\n",
    "fig, ax = plt.subplots(figsize=(7, 4))\n",
    "plot_roc_curve(mod_logistic, X_test, y_test, ax=ax)\n",
    "ax.plot([0, 1], [0, 1], linestyle='--')"
   ]
  },
  {
   "cell_type": "code",
   "execution_count": 38,
   "metadata": {},
   "outputs": [
    {
     "name": "stdout",
     "output_type": "stream",
     "text": [
      "AUC：0.947\n"
     ]
    }
   ],
   "source": [
    "# AUC\n",
    "print(f'AUC：{auc(fpr, tpr):.3g}')"
   ]
  },
  {
   "cell_type": "markdown",
   "metadata": {},
   "source": [
    "### 意思決定に関わる要素の整理"
   ]
  },
  {
   "cell_type": "code",
   "execution_count": 39,
   "metadata": {},
   "outputs": [
    {
     "name": "stdout",
     "output_type": "stream",
     "text": [
      "          対策なし  対策あり\n",
      "問題なし      1000       200\n",
      "問題あり         0       200\n"
     ]
    }
   ],
   "source": [
    "payoff = pd.DataFrame({\n",
    "    '対策なし': [1000, 0],\n",
    "    '対策あり': [200, 200]\n",
    "})\n",
    "payoff.index = ['問題なし', '問題あり']\n",
    "print(payoff)"
   ]
  },
  {
   "cell_type": "code",
   "execution_count": 40,
   "metadata": {},
   "outputs": [],
   "source": [
    "# 最大値をとるインデックスを取得する。最大値が複数ある場合はすべて出力する。\n",
    "def argmax_list(series):\n",
    "    return(list(series[series == series.max()].index))"
   ]
  },
  {
   "cell_type": "code",
   "execution_count": 41,
   "metadata": {},
   "outputs": [],
   "source": [
    "# 期待金額最大化に基づく意思決定を行う関数\n",
    "def max_emv(probs, payoff_table):\n",
    "    emv = payoff_table.mul(probs, axis=0).sum()\n",
    "    max_emv = emv.max()\n",
    "    a_star = argmax_list(emv)\n",
    "    return(pd.Series([a_star, max_emv], index=['選択肢', '期待金額']))"
   ]
  },
  {
   "cell_type": "markdown",
   "metadata": {},
   "source": [
    "### 予測を使わないときの期待金額の最大化"
   ]
  },
  {
   "cell_type": "code",
   "execution_count": 42,
   "metadata": {},
   "outputs": [
    {
     "name": "stdout",
     "output_type": "stream",
     "text": [
      "          予測-問題なし  予測-問題あり\n",
      "問題なし          0.450          0.059\n",
      "問題あり          0.065          0.426\n"
     ]
    }
   ],
   "source": [
    "joint_forecast_state = prob_to_mat(prob_pred, 0.5, y_test, print_acc=False)\n",
    "print(joint_forecast_state)"
   ]
  },
  {
   "cell_type": "code",
   "execution_count": 43,
   "metadata": {},
   "outputs": [
    {
     "data": {
      "text/plain": [
       "問題なし    0.509\n",
       "問題あり    0.491\n",
       "dtype: float64"
      ]
     },
     "execution_count": 43,
     "metadata": {},
     "output_type": "execute_result"
    }
   ],
   "source": [
    "# 自然の状態の周辺分布\n",
    "marginal_state = joint_forecast_state.sum(axis=1)\n",
    "marginal_state"
   ]
  },
  {
   "cell_type": "code",
   "execution_count": 44,
   "metadata": {},
   "outputs": [
    {
     "data": {
      "text/plain": [
       "選択肢      [対策なし]\n",
       "期待金額           509\n",
       "dtype: object"
      ]
     },
     "execution_count": 44,
     "metadata": {},
     "output_type": "execute_result"
    }
   ],
   "source": [
    "naive_decision = max_emv(marginal_state, payoff)\n",
    "naive_decision"
   ]
  },
  {
   "cell_type": "markdown",
   "metadata": {},
   "source": [
    "### カテゴリー予測を使うときの期待金額の最大化"
   ]
  },
  {
   "cell_type": "code",
   "execution_count": 45,
   "metadata": {},
   "outputs": [
    {
     "data": {
      "text/plain": [
       "予測-問題なし    0.515\n",
       "予測-問題あり    0.485\n",
       "dtype: float64"
      ]
     },
     "execution_count": 45,
     "metadata": {},
     "output_type": "execute_result"
    }
   ],
   "source": [
    "# 予測の周辺分布\n",
    "marginal_forecast = joint_forecast_state.sum(axis=0)\n",
    "marginal_forecast"
   ]
  },
  {
   "cell_type": "code",
   "execution_count": 46,
   "metadata": {},
   "outputs": [
    {
     "name": "stdout",
     "output_type": "stream",
     "text": [
      "          予測-問題なし  予測-問題あり\n",
      "問題なし          0.874          0.121\n",
      "問題あり          0.126          0.879\n"
     ]
    }
   ],
   "source": [
    "# 予測が得られた後の条件付き分布\n",
    "conditional_forecast = joint_forecast_state.div(marginal_forecast, axis=1)\n",
    "print(conditional_forecast)"
   ]
  },
  {
   "cell_type": "code",
   "execution_count": 47,
   "metadata": {},
   "outputs": [
    {
     "name": "stdout",
     "output_type": "stream",
     "text": [
      "         予測-問題なし 予測-問題あり\n",
      "選択肢      [対策なし]    [対策あり]\n",
      "期待金額           874           200\n"
     ]
    }
   ],
   "source": [
    "info_decision = \\\n",
    "    conditional_forecast.apply(max_emv, axis=0, payoff_table=payoff)\n",
    "print(info_decision)"
   ]
  },
  {
   "cell_type": "code",
   "execution_count": 48,
   "metadata": {},
   "outputs": [
    {
     "data": {
      "text/plain": [
       "547.050"
      ]
     },
     "execution_count": 48,
     "metadata": {},
     "output_type": "execute_result"
    }
   ],
   "source": [
    "info_decision.loc['期待金額'].mul(marginal_forecast).sum()"
   ]
  },
  {
   "cell_type": "code",
   "execution_count": 49,
   "metadata": {},
   "outputs": [
    {
     "data": {
      "text/plain": [
       "547.050"
      ]
     },
     "execution_count": 49,
     "metadata": {},
     "output_type": "execute_result"
    }
   ],
   "source": [
    "joint_forecast_state.apply(\n",
    "    max_emv, axis=0, payoff_table=payoff).loc['期待金額'].sum()"
   ]
  },
  {
   "cell_type": "markdown",
   "metadata": {},
   "source": [
    "### 確率予測を使うときの期待金額"
   ]
  },
  {
   "cell_type": "code",
   "execution_count": 50,
   "metadata": {},
   "outputs": [],
   "source": [
    "# 閾値を指定したうえで、確率予測をカテゴリー予測に変換し、\n",
    "# その結果に基づいて意思決定を行ったときの最大の期待金額を返す関数\n",
    "def prob_pred_emv(prob_pred, threshold, y_true, payoff_table, \n",
    "                  print_acc=False):\n",
    "    # 確率予測をカテゴリー予測に変換して、同時分布を得る\n",
    "    joint_forecast_state = prob_to_mat(prob_pred, threshold, y_true, \n",
    "                                       print_acc)\n",
    "    # カテゴリー予測と自然の状態の同時分布に基づいて意思決定をし\n",
    "    # 期待金額の最大値を返す\n",
    "    emv = joint_forecast_state.apply(\n",
    "        max_emv, axis=0, payoff_table=payoff_table).loc['期待金額'].sum()\n",
    "    return(emv)"
   ]
  },
  {
   "cell_type": "code",
   "execution_count": 51,
   "metadata": {},
   "outputs": [
    {
     "data": {
      "text/plain": [
       "547.050"
      ]
     },
     "execution_count": 51,
     "metadata": {},
     "output_type": "execute_result"
    }
   ],
   "source": [
    "# 動作確認\n",
    "prob_pred_emv(prob_pred, 0.5, y_test, payoff)"
   ]
  },
  {
   "cell_type": "code",
   "execution_count": 52,
   "metadata": {},
   "outputs": [
    {
     "data": {
      "text/plain": [
       "566.600"
      ]
     },
     "execution_count": 52,
     "metadata": {},
     "output_type": "execute_result"
    }
   ],
   "source": [
    "# コストロス比を閾値にする\n",
    "prob_pred_emv(prob_pred, 0.8, y_test, payoff)"
   ]
  },
  {
   "cell_type": "code",
   "execution_count": 53,
   "metadata": {},
   "outputs": [
    {
     "name": "stdout",
     "output_type": "stream",
     "text": [
      "カテゴリー予測の価値：38.3\n",
      "確率予測の価値      ：57.8\n"
     ]
    }
   ],
   "source": [
    "# 予測を使わないときのEMV\n",
    "emv_naive = naive_decision.loc['期待金額']\n",
    "\n",
    "# 予測を使うときのEMV\n",
    "emv_category = prob_pred_emv(prob_pred, 0.5, y_test, payoff)\n",
    "emv_prob = prob_pred_emv(prob_pred, 0.8, y_test, payoff)\n",
    "\n",
    "# 予測の価値\n",
    "evsi_category =  emv_category - emv_naive\n",
    "evsi_prob = emv_prob - emv_naive\n",
    "print(f'カテゴリー予測の価値：{evsi_category:.3g}')\n",
    "print(f'確率予測の価値      ：{evsi_prob:.3g}')"
   ]
  },
  {
   "cell_type": "markdown",
   "metadata": {},
   "source": [
    "### 確率予測を使うときの期待金額の最大化"
   ]
  },
  {
   "cell_type": "code",
   "execution_count": 54,
   "metadata": {},
   "outputs": [],
   "source": [
    "# 閾値を0から1まで変化させる\n",
    "threshold_array = np.arange(0, 1.01, 0.01)\n",
    "# 各々の閾値でEMVを計算する\n",
    "emv_array = np.zeros(len(threshold_array))\n",
    "for i in range(len(threshold_array)):\n",
    "    emv_array[i] = prob_pred_emv(prob_pred, threshold_array[i], \n",
    "                                 y_test, payoff)"
   ]
  },
  {
   "cell_type": "code",
   "execution_count": 55,
   "metadata": {},
   "outputs": [
    {
     "data": {
      "text/plain": [
       "<matplotlib.axes._subplots.AxesSubplot at 0x1fa2e431670>"
      ]
     },
     "execution_count": 55,
     "metadata": {},
     "output_type": "execute_result"
    },
    {
     "data": {
      "image/png": "[encoded data removed]",
      "text/plain": [
       "<Figure size 504x288 with 1 Axes>"
      ]
     },
     "metadata": {},
     "output_type": "display_data"
    }
   ],
   "source": [
    "# DataFrameにまとめる\n",
    "prob_pred_emv_df = pd.DataFrame({\n",
    "    'EMV': emv_array,\n",
    "    'threshold':threshold_array\n",
    "})\n",
    "\n",
    "# 描画オブジェクトを生成\n",
    "fig, ax = plt.subplots(figsize=(7, 4))\n",
    "\n",
    "# 折れ線グラフの描画\n",
    "prob_pred_emv_df.plot(x='threshold', y='EMV', ax=ax)"
   ]
  },
  {
   "cell_type": "code",
   "execution_count": 56,
   "metadata": {
    "scrolled": true
   },
   "outputs": [
    {
     "data": {
      "text/plain": [
       "EMV          568.45\n",
       "threshold      0.82\n",
       "Name: 82, dtype: float64"
      ]
     },
     "execution_count": 56,
     "metadata": {},
     "output_type": "execute_result"
    }
   ],
   "source": [
    "# 期待金額が最大のときの閾値とそのときのEMV\n",
    "prob_pred_emv_df.iloc[prob_pred_emv_df['EMV'].idxmax()]"
   ]
  },
  {
   "cell_type": "code",
   "execution_count": 57,
   "metadata": {},
   "outputs": [
    {
     "name": "stdout",
     "output_type": "stream",
     "text": [
      "閾値を変更したときの価値：59.7\n"
     ]
    }
   ],
   "source": [
    "# 閾値をチューニングしたときの予測の価値\n",
    "emv_prob_best = prob_pred_emv_df['EMV'].max()\n",
    "evsi_prob_best = emv_prob_best - emv_naive\n",
    "print(f'閾値を変更したときの価値：{evsi_prob_best:.3g}')"
   ]
  },
  {
   "cell_type": "code",
   "execution_count": 58,
   "metadata": {},
   "outputs": [
    {
     "name": "stdout",
     "output_type": "stream",
     "text": [
      "カテゴリー予測の価値    ：38.3\n",
      "確率予測の価値          ：57.8\n",
      "閾値を変更したときの価値：59.7\n"
     ]
    }
   ],
   "source": [
    "# 参考；情報の価値の比較\n",
    "print(f'カテゴリー予測の価値    ：{evsi_category:.3g}')\n",
    "print(f'確率予測の価値          ：{evsi_prob:.3g}')\n",
    "print(f'閾値を変更したときの価値：{evsi_prob_best:.3g}')"
   ]
  }
 ],
 "metadata": {
  "kernelspec": {
   "display_name": "Python 3",
   "language": "python",
   "name": "python3"
  },
  "language_info": {
   "codemirror_mode": {
    "name": "ipython",
    "version": 3
   },
   "file_extension": ".py",
   "mimetype": "text/x-python",
   "name": "python",
   "nbconvert_exporter": "python",
   "pygments_lexer": "ipython3",
   "version": "3.8.3"
  }
 },
 "nbformat": 4,
 "nbformat_minor": 4
}
