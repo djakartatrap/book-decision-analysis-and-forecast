{
 "cells": [
  {
   "cell_type": "markdown",
   "metadata": {},
   "source": [
    "# 意思決定分析と予測の活用｜第2部 決定分析の基礎\n",
    "https://logics-of-blue.com/decision-analysis-and-forecast-book-support/"
   ]
  },
  {
   "cell_type": "markdown",
   "metadata": {},
   "source": [
    "## 第6章 情報の価値"
   ]
  },
  {
   "cell_type": "markdown",
   "metadata": {},
   "source": [
    "### Pythonによる分析の準備"
   ]
  },
  {
   "cell_type": "code",
   "execution_count": 1,
   "metadata": {},
   "outputs": [],
   "source": [
    "# 数値計算に使うライブラリ\n",
    "import numpy as np\n",
    "import pandas as pd\n",
    "\n",
    "# DataFrameの全角文字の出力をきれいにする\n",
    "pd.set_option('display.unicode.east_asian_width', True)\n",
    "# 本文の数値とあわせるために、小数点以下3桁で丸める\n",
    "pd.set_option('display.precision', 3)"
   ]
  },
  {
   "cell_type": "code",
   "execution_count": 2,
   "metadata": {},
   "outputs": [],
   "source": [
    "# 最大値をとるインデックスを取得する。最大値が複数ある場合はすべて出力する。\n",
    "def argmax_list(series):\n",
    "    return(list(series[series == series.max()].index))"
   ]
  },
  {
   "cell_type": "code",
   "execution_count": 3,
   "metadata": {},
   "outputs": [],
   "source": [
    "# 期待金額最大化に基づく意思決定を行う関数\n",
    "def max_emv(probs, payoff_table):\n",
    "    emv = payoff_table.mul(probs, axis=0).sum()\n",
    "    max_emv = emv.max()\n",
    "    a_star = argmax_list(emv)\n",
    "    return(pd.Series([a_star, max_emv], index=['選択肢', '期待金額']))"
   ]
  },
  {
   "cell_type": "markdown",
   "metadata": {},
   "source": [
    "### 同時分布と利得行列"
   ]
  },
  {
   "cell_type": "code",
   "execution_count": 4,
   "metadata": {},
   "outputs": [
    {
     "name": "stdout",
     "output_type": "stream",
     "text": [
      "      1台  2台\n",
      "好況  300  700\n",
      "不況  300 -300\n"
     ]
    }
   ],
   "source": [
    "# 利得行列\n",
    "payoff = pd.DataFrame({\n",
    "    '1台': [300, 300],\n",
    "    '2台': [700, -300]\n",
    "})\n",
    "payoff.index = ['好況', '不況']\n",
    "print(payoff)"
   ]
  },
  {
   "cell_type": "code",
   "execution_count": 5,
   "metadata": {},
   "outputs": [
    {
     "name": "stdout",
     "output_type": "stream",
     "text": [
      "      好況予測  不況予測\n",
      "好況      0.35      0.05\n",
      "不況      0.10      0.50\n"
     ]
    }
   ],
   "source": [
    "# 同時分布\n",
    "joint_forecast_state = pd.DataFrame({\n",
    "    '好況予測': [0.35, 0.1],\n",
    "    '不況予測': [0.05, 0.5]\n",
    "})\n",
    "joint_forecast_state.index = ['好況', '不況']\n",
    "print(joint_forecast_state)"
   ]
  },
  {
   "cell_type": "markdown",
   "metadata": {},
   "source": [
    "### 条件付き期待値に基づく意思決定"
   ]
  },
  {
   "cell_type": "markdown",
   "metadata": {},
   "source": [
    "#### 周辺分布を求める"
   ]
  },
  {
   "cell_type": "code",
   "execution_count": 6,
   "metadata": {},
   "outputs": [
    {
     "data": {
      "text/plain": [
       "好況予測    0.45\n",
       "不況予測    0.55\n",
       "dtype: float64"
      ]
     },
     "execution_count": 6,
     "metadata": {},
     "output_type": "execute_result"
    }
   ],
   "source": [
    "# 予測の周辺分布\n",
    "marginal_forecast = joint_forecast_state.sum(axis=0)\n",
    "marginal_forecast"
   ]
  },
  {
   "cell_type": "code",
   "execution_count": 7,
   "metadata": {},
   "outputs": [
    {
     "data": {
      "text/plain": [
       "好況    0.4\n",
       "不況    0.6\n",
       "dtype: float64"
      ]
     },
     "execution_count": 7,
     "metadata": {},
     "output_type": "execute_result"
    }
   ],
   "source": [
    "# 自然の状態の周辺分布\n",
    "marginal_state = joint_forecast_state.sum(axis=1)\n",
    "marginal_state"
   ]
  },
  {
   "cell_type": "markdown",
   "metadata": {},
   "source": [
    "#### 条件付分布を求める"
   ]
  },
  {
   "cell_type": "code",
   "execution_count": 8,
   "metadata": {},
   "outputs": [
    {
     "name": "stdout",
     "output_type": "stream",
     "text": [
      "      好況予測  不況予測\n",
      "好況     0.778     0.091\n",
      "不況     0.222     0.909\n"
     ]
    }
   ],
   "source": [
    "# 予測が得られた後の条件付き分布\n",
    "conditional_forecast = joint_forecast_state.div(marginal_forecast, axis=1)\n",
    "print(conditional_forecast)"
   ]
  },
  {
   "cell_type": "markdown",
   "metadata": {},
   "source": [
    "#### 条件付き期待値に基づく意思決定"
   ]
  },
  {
   "cell_type": "code",
   "execution_count": 9,
   "metadata": {},
   "outputs": [
    {
     "name": "stdout",
     "output_type": "stream",
     "text": [
      "         好況予測 不況予測\n",
      "選択肢      [2台]    [1台]\n",
      "期待金額      478      300\n"
     ]
    }
   ],
   "source": [
    "info_decision = \\\n",
    "    conditional_forecast.apply(max_emv, axis=0, payoff_table=payoff)\n",
    "print(info_decision)"
   ]
  },
  {
   "cell_type": "markdown",
   "metadata": {},
   "source": [
    "### 情報を使わない意思決定との比較"
   ]
  },
  {
   "cell_type": "code",
   "execution_count": 10,
   "metadata": {},
   "outputs": [
    {
     "data": {
      "text/plain": [
       "選択肢      [1台]\n",
       "期待金額      300\n",
       "dtype: object"
      ]
     },
     "execution_count": 10,
     "metadata": {},
     "output_type": "execute_result"
    }
   ],
   "source": [
    "naive_decision = max_emv(marginal_state, payoff)\n",
    "naive_decision"
   ]
  },
  {
   "cell_type": "code",
   "execution_count": 11,
   "metadata": {},
   "outputs": [
    {
     "name": "stdout",
     "output_type": "stream",
     "text": [
      "予測を使わないときの期待金額: 300万円\n"
     ]
    }
   ],
   "source": [
    "emv_naive = naive_decision['期待金額']\n",
    "print(f'予測を使わないときの期待金額: {emv_naive:.3g}万円')"
   ]
  },
  {
   "cell_type": "markdown",
   "metadata": {},
   "source": [
    "### 情報の価値：事後分析"
   ]
  },
  {
   "cell_type": "code",
   "execution_count": 12,
   "metadata": {},
   "outputs": [
    {
     "name": "stdout",
     "output_type": "stream",
     "text": [
      "好況予測が出たときの期待金額の差: 178万円\n"
     ]
    }
   ],
   "source": [
    "post_value_boom = info_decision.loc['期待金額', '好況予測'] - emv_naive\n",
    "print(f'好況予測が出たときの期待金額の差: {post_value_boom:.3g}万円')"
   ]
  },
  {
   "cell_type": "code",
   "execution_count": 13,
   "metadata": {},
   "outputs": [
    {
     "name": "stdout",
     "output_type": "stream",
     "text": [
      "不況予測が出たときの期待金額の差: -5.68e-14万円\n"
     ]
    }
   ],
   "source": [
    "post_value_slump = info_decision.loc['期待金額', '不況予測'] - emv_naive\n",
    "print(f'不況予測が出たときの期待金額の差: {post_value_slump:.3g}万円')"
   ]
  },
  {
   "cell_type": "markdown",
   "metadata": {},
   "source": [
    "### 情報の価値：事前分析"
   ]
  },
  {
   "cell_type": "code",
   "execution_count": 14,
   "metadata": {},
   "outputs": [
    {
     "name": "stdout",
     "output_type": "stream",
     "text": [
      "情報を使ったときの期待金額: 380万円\n"
     ]
    }
   ],
   "source": [
    "emv_forecast = info_decision.loc['期待金額'].mul(marginal_forecast).sum()\n",
    "print(f'情報を使ったときの期待金額: {emv_forecast:.3g}万円')"
   ]
  },
  {
   "cell_type": "code",
   "execution_count": 15,
   "metadata": {},
   "outputs": [
    {
     "data": {
      "text/plain": [
       "380.0"
      ]
     },
     "execution_count": 15,
     "metadata": {},
     "output_type": "execute_result"
    }
   ],
   "source": [
    "# 同時分布を使って計算しても良い\n",
    "joint_forecast_state.apply(\n",
    "    max_emv, axis=0, payoff_table=payoff).loc['期待金額'].sum()"
   ]
  },
  {
   "cell_type": "code",
   "execution_count": 16,
   "metadata": {},
   "outputs": [
    {
     "name": "stdout",
     "output_type": "stream",
     "text": [
      "情報の価値: 80万円\n"
     ]
    }
   ],
   "source": [
    "ante_value = emv_forecast - emv_naive\n",
    "print(f'情報の価値: {ante_value:.3g}万円')"
   ]
  },
  {
   "cell_type": "markdown",
   "metadata": {},
   "source": [
    "### 完全情報と完全情報の価値"
   ]
  },
  {
   "cell_type": "code",
   "execution_count": 17,
   "metadata": {},
   "outputs": [
    {
     "data": {
      "text/plain": [
       "好況    700\n",
       "不況    300\n",
       "dtype: int64"
      ]
     },
     "execution_count": 17,
     "metadata": {},
     "output_type": "execute_result"
    }
   ],
   "source": [
    "# 自然の状態別の最大利得\n",
    "payoff.max(axis=1)"
   ]
  },
  {
   "cell_type": "code",
   "execution_count": 18,
   "metadata": {},
   "outputs": [
    {
     "data": {
      "text/plain": [
       "460.0"
      ]
     },
     "execution_count": 18,
     "metadata": {},
     "output_type": "execute_result"
    }
   ],
   "source": [
    "# 自然の状態にあわせて利得を最大にする行動をとったときの期待金額\n",
    "emv_perfect = payoff.max(axis=1).mul(marginal_state).sum()\n",
    "emv_perfect"
   ]
  },
  {
   "cell_type": "code",
   "execution_count": 19,
   "metadata": {},
   "outputs": [
    {
     "name": "stdout",
     "output_type": "stream",
     "text": [
      "完全情報の価値: 160万円\n"
     ]
    }
   ],
   "source": [
    "perfect_information_value = emv_perfect - emv_naive\n",
    "print(f'完全情報の価値: {perfect_information_value:.3g}万円')"
   ]
  },
  {
   "cell_type": "markdown",
   "metadata": {},
   "source": [
    "### 情報の価値の比較"
   ]
  },
  {
   "cell_type": "code",
   "execution_count": 20,
   "metadata": {},
   "outputs": [
    {
     "name": "stdout",
     "output_type": "stream",
     "text": [
      "      好況予測  不況予測\n",
      "好況       0.2       0.2\n",
      "不況       0.3       0.3\n"
     ]
    }
   ],
   "source": [
    "# 「コインを投げて表なら好況、裏なら不況と主張する」情報\n",
    "coin_result = pd.DataFrame({\n",
    "    '好況予測': [0.2, 0.3],\n",
    "    '不況予測': [0.2, 0.3]\n",
    "})\n",
    "coin_result.index = ['好況', '不況']\n",
    "print(coin_result)"
   ]
  },
  {
   "cell_type": "code",
   "execution_count": 21,
   "metadata": {},
   "outputs": [
    {
     "data": {
      "text/plain": [
       "300.0"
      ]
     },
     "execution_count": 21,
     "metadata": {},
     "output_type": "execute_result"
    }
   ],
   "source": [
    "# コイン投げの結果を使ったときの期待金額\n",
    "emv_coin = coin_result.apply(\n",
    "    max_emv, axis=0, payoff_table=payoff).loc['期待金額'].sum()\n",
    "emv_coin"
   ]
  },
  {
   "cell_type": "code",
   "execution_count": 22,
   "metadata": {},
   "outputs": [
    {
     "name": "stdout",
     "output_type": "stream",
     "text": [
      "      好況予測  不況予測\n",
      "好況       0.0       0.4\n",
      "不況       0.6       0.0\n"
     ]
    }
   ],
   "source": [
    "# 予測値と実測値が常に逆になる情報\n",
    "perversity_forecast = pd.DataFrame({\n",
    "    '好況予測': [0, 0.6],\n",
    "    '不況予測': [0.4, 0]\n",
    "})\n",
    "perversity_forecast.index = ['好況', '不況']\n",
    "print(perversity_forecast)"
   ]
  },
  {
   "cell_type": "code",
   "execution_count": 23,
   "metadata": {},
   "outputs": [
    {
     "data": {
      "text/plain": [
       "460.0"
      ]
     },
     "execution_count": 23,
     "metadata": {},
     "output_type": "execute_result"
    }
   ],
   "source": [
    "# 予測値と実測値が常に逆になる情報を使ったときの期待金額\n",
    "emv_perversity = perversity_forecast.apply(\n",
    "    max_emv, axis=0, payoff_table=payoff).loc['期待金額'].sum()\n",
    "emv_perversity"
   ]
  },
  {
   "cell_type": "code",
   "execution_count": 24,
   "metadata": {},
   "outputs": [
    {
     "name": "stdout",
     "output_type": "stream",
     "text": [
      "情報の有効性: 0.5\n"
     ]
    }
   ],
   "source": [
    "efficiency = ante_value / perfect_information_value\n",
    "print(f'情報の有効性: {efficiency:.3g}')"
   ]
  }
 ],
 "metadata": {
  "kernelspec": {
   "display_name": "Python 3",
   "language": "python",
   "name": "python3"
  },
  "language_info": {
   "codemirror_mode": {
    "name": "ipython",
    "version": 3
   },
   "file_extension": ".py",
   "mimetype": "text/x-python",
   "name": "python",
   "nbconvert_exporter": "python",
   "pygments_lexer": "ipython3",
   "version": "3.8.3"
  }
 },
 "nbformat": 4,
 "nbformat_minor": 4
}
