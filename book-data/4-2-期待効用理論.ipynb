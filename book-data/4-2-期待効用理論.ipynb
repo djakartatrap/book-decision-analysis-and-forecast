{
 "cells": [
  {
   "cell_type": "markdown",
   "metadata": {},
   "source": [
    "# 意思決定分析と予測の活用｜第4部 効用理論入門\n",
    "https://logics-of-blue.com/decision-analysis-and-forecast-book-support/"
   ]
  },
  {
   "cell_type": "markdown",
   "metadata": {},
   "source": [
    "## 第2章\t期待効用理論"
   ]
  },
  {
   "cell_type": "markdown",
   "metadata": {},
   "source": [
    "### Pythonによる効用関数の同定"
   ]
  },
  {
   "cell_type": "code",
   "execution_count": 1,
   "metadata": {},
   "outputs": [],
   "source": [
    "# 数値計算に使うライブラリ\n",
    "import numpy as np\n",
    "import pandas as pd\n",
    "\n",
    "# DataFrameの全角文字の出力をきれいにする\n",
    "pd.set_option('display.unicode.east_asian_width', True)\n",
    "# 本文の数値とあわせるために、小数点以下3桁で丸める\n",
    "pd.set_option('display.precision', 3)\n",
    "\n",
    "# 補間\n",
    "from scipy import interpolate\n",
    "\n",
    "# グラフ描画\n",
    "import matplotlib.pyplot as plt\n",
    "import seaborn as sns\n",
    "sns.set()\n",
    "\n",
    "# グラフの日本語表記\n",
    "from matplotlib import rcParams\n",
    "rcParams['font.family'] = 'sans-serif'\n",
    "rcParams['font.sans-serif'] = 'Meiryo'"
   ]
  },
  {
   "cell_type": "code",
   "execution_count": 2,
   "metadata": {},
   "outputs": [],
   "source": [
    "# 確実同値額と効用\n",
    "cme =     np.array([0,    5,  20,   50, 100])\n",
    "utility = np.array([0, 0.25, 0.5, 0.75,   1])"
   ]
  },
  {
   "cell_type": "code",
   "execution_count": 3,
   "metadata": {},
   "outputs": [],
   "source": [
    "# 金額を入力すると、線形補間された効用が出力される関数\n",
    "u_func = interpolate.interp1d(cme, utility)\n",
    "\n",
    "# 0から100まで1区切りで効用を計算\n",
    "money = np.arange(0, 101, 1)\n",
    "interpolated_utility = u_func(money)"
   ]
  },
  {
   "cell_type": "code",
   "execution_count": 4,
   "metadata": {},
   "outputs": [
    {
     "data": {
      "text/plain": [
       "<matplotlib.legend.Legend at 0x1ccab3d5d00>"
      ]
     },
     "execution_count": 4,
     "metadata": {},
     "output_type": "execute_result"
    },
    {
     "data": {
      "image/png": "[encoded data removed]",
      "text/plain": [
       "<Figure size 504x288 with 1 Axes>"
      ]
     },
     "metadata": {},
     "output_type": "display_data"
    }
   ],
   "source": [
    "# 描画オブジェクトを生成\n",
    "fig, ax = plt.subplots(figsize=(7, 4))\n",
    "\n",
    "# グラフの描画\n",
    "ax.plot(money, interpolated_utility, label='効用関数')\n",
    "ax.scatter(cme, utility, label='アンケートで得られた確実同値額')\n",
    "\n",
    "# グラフの装飾\n",
    "ax.set_title('同定された効用関数', fontsize=15)\n",
    "ax.set_xlabel('金額')\n",
    "ax.set_ylabel('効用')\n",
    "ax.legend(loc='upper left')"
   ]
  },
  {
   "cell_type": "markdown",
   "metadata": {},
   "source": [
    "### 意思決定に関わる要素の整理"
   ]
  },
  {
   "cell_type": "code",
   "execution_count": 5,
   "metadata": {},
   "outputs": [],
   "source": [
    "# 最大値をとるインデックスを取得する。最大値が複数ある場合はすべて出力する。\n",
    "def argmax_list(series):\n",
    "    return(list(series[series == series.max()].index))"
   ]
  },
  {
   "cell_type": "code",
   "execution_count": 6,
   "metadata": {},
   "outputs": [],
   "source": [
    "# 期待値最大化に基づく意思決定を行う関数\n",
    "def max_emv(probs, payoff_table):\n",
    "    emv = payoff_table.mul(probs, axis=0).sum()\n",
    "    max_emv = emv.max()\n",
    "    a_star = argmax_list(emv)\n",
    "    return(pd.Series([a_star, max_emv], index=['選択肢', '期待値']))"
   ]
  },
  {
   "cell_type": "code",
   "execution_count": 7,
   "metadata": {},
   "outputs": [
    {
     "name": "stdout",
     "output_type": "stream",
     "text": [
      "          対策なし  対策あり\n",
      "問題なし       100        50\n",
      "問題あり         0        50\n"
     ]
    }
   ],
   "source": [
    "# 利得行列(金額換算)\n",
    "payoff = pd.DataFrame({\n",
    "    '対策なし': [100, 0],\n",
    "    '対策あり': [50, 50]\n",
    "})\n",
    "payoff.index = ['問題なし', '問題あり']\n",
    "print(payoff)"
   ]
  },
  {
   "cell_type": "code",
   "execution_count": 8,
   "metadata": {},
   "outputs": [
    {
     "name": "stdout",
     "output_type": "stream",
     "text": [
      "          予測-問題なし  予測-問題あり\n",
      "問題なし            0.4           0.05\n",
      "問題あり            0.1           0.45\n"
     ]
    }
   ],
   "source": [
    "# 同時分布\n",
    "joint_forecast_state = pd.DataFrame({\n",
    "    '予測-問題なし': [0.4, 0.1],\n",
    "    '予測-問題あり': [0.05, 0.45]\n",
    "})\n",
    "joint_forecast_state.index = ['問題なし', '問題あり']\n",
    "print(joint_forecast_state)"
   ]
  },
  {
   "cell_type": "code",
   "execution_count": 9,
   "metadata": {},
   "outputs": [
    {
     "data": {
      "text/plain": [
       "予測-問題なし    0.5\n",
       "予測-問題あり    0.5\n",
       "dtype: float64"
      ]
     },
     "execution_count": 9,
     "metadata": {},
     "output_type": "execute_result"
    }
   ],
   "source": [
    "# 予測の周辺分布\n",
    "marginal_forecast = joint_forecast_state.sum(axis=0)\n",
    "marginal_forecast"
   ]
  },
  {
   "cell_type": "code",
   "execution_count": 10,
   "metadata": {},
   "outputs": [
    {
     "name": "stdout",
     "output_type": "stream",
     "text": [
      "          予測-問題なし  予測-問題あり\n",
      "問題なし            0.8            0.1\n",
      "問題あり            0.2            0.9\n"
     ]
    }
   ],
   "source": [
    "# 予測が得られた後の条件付き分布\n",
    "conditional_forecast = joint_forecast_state.div(marginal_forecast, axis=1)\n",
    "print(conditional_forecast)"
   ]
  },
  {
   "cell_type": "markdown",
   "metadata": {},
   "source": [
    "### 期待金額に基づく意思決定"
   ]
  },
  {
   "cell_type": "code",
   "execution_count": 11,
   "metadata": {},
   "outputs": [
    {
     "name": "stdout",
     "output_type": "stream",
     "text": [
      "       予測-問題なし 予測-問題あり\n",
      "選択肢    [対策なし]    [対策あり]\n",
      "期待値            80            50\n"
     ]
    }
   ],
   "source": [
    "info_decision = \\\n",
    "    conditional_forecast.apply(max_emv, axis=0, payoff_table=payoff)\n",
    "print(info_decision)"
   ]
  },
  {
   "cell_type": "code",
   "execution_count": 12,
   "metadata": {},
   "outputs": [
    {
     "name": "stdout",
     "output_type": "stream",
     "text": [
      "情報を使ったときの期待金額: 65万円\n"
     ]
    }
   ],
   "source": [
    "emv_forecast = info_decision.loc['期待値'].mul(marginal_forecast).sum()\n",
    "print(f'情報を使ったときの期待金額: {emv_forecast:.3g}万円')"
   ]
  },
  {
   "cell_type": "markdown",
   "metadata": {},
   "source": [
    "### 期待効用に基づく意思決定"
   ]
  },
  {
   "cell_type": "code",
   "execution_count": 13,
   "metadata": {},
   "outputs": [
    {
     "name": "stdout",
     "output_type": "stream",
     "text": [
      "          対策なし  対策あり\n",
      "問題なし       1.0      0.75\n",
      "問題あり       0.0      0.75\n"
     ]
    }
   ],
   "source": [
    "# 利得(金額)を効用に変換する\n",
    "payoff_u = payoff.apply(u_func)\n",
    "print(payoff_u)"
   ]
  },
  {
   "cell_type": "code",
   "execution_count": 14,
   "metadata": {},
   "outputs": [
    {
     "name": "stdout",
     "output_type": "stream",
     "text": [
      "       予測-問題なし 予測-問題あり\n",
      "選択肢    [対策なし]    [対策あり]\n",
      "期待値           0.8          0.75\n"
     ]
    }
   ],
   "source": [
    "# 期待効用に基づく意思決定\n",
    "info_decision_u = \\\n",
    "    conditional_forecast.apply(max_emv, axis=0, payoff_table=payoff_u)\n",
    "print(info_decision_u)"
   ]
  },
  {
   "cell_type": "code",
   "execution_count": 15,
   "metadata": {},
   "outputs": [
    {
     "name": "stdout",
     "output_type": "stream",
     "text": [
      "情報を使ったときの期待効用: 0.775\n"
     ]
    }
   ],
   "source": [
    "u_forecast = info_decision_u.loc['期待値'].mul(marginal_forecast).sum()\n",
    "print(f'情報を使ったときの期待効用: {u_forecast:.3g}')"
   ]
  },
  {
   "cell_type": "code",
   "execution_count": 16,
   "metadata": {},
   "outputs": [
    {
     "data": {
      "text/plain": [
       "array(0.775)"
      ]
     },
     "execution_count": 16,
     "metadata": {},
     "output_type": "execute_result"
    }
   ],
   "source": [
    "# 参考\n",
    "money = 55\n",
    "u_func(money)"
   ]
  }
 ],
 "metadata": {
  "kernelspec": {
   "display_name": "Python 3",
   "language": "python",
   "name": "python3"
  },
  "language_info": {
   "codemirror_mode": {
    "name": "ipython",
    "version": 3
   },
   "file_extension": ".py",
   "mimetype": "text/x-python",
   "name": "python",
   "nbconvert_exporter": "python",
   "pygments_lexer": "ipython3",
   "version": "3.8.3"
  }
 },
 "nbformat": 4,
 "nbformat_minor": 4
}
