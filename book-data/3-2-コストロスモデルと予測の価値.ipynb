{
 "cells": [
  {
   "cell_type": "markdown",
   "metadata": {},
   "source": [
    "# 意思決定分析と予測の活用｜第3部 決定分析の活用\n",
    "https://logics-of-blue.com/decision-analysis-and-forecast-book-support/"
   ]
  },
  {
   "cell_type": "markdown",
   "metadata": {},
   "source": [
    "## 第2章 コスト/ロスモデルと予測の価値"
   ]
  },
  {
   "cell_type": "markdown",
   "metadata": {},
   "source": [
    "### Pythonによる分析の準備"
   ]
  },
  {
   "cell_type": "markdown",
   "metadata": {},
   "source": [
    "#### ライブラリの読み込みなど"
   ]
  },
  {
   "cell_type": "code",
   "execution_count": 1,
   "metadata": {},
   "outputs": [],
   "source": [
    "# 数値計算に使うライブラリ\n",
    "import numpy as np\n",
    "import pandas as pd\n",
    "\n",
    "# DataFrameの全角文字の出力をきれいにする\n",
    "pd.set_option('display.unicode.east_asian_width', True)\n",
    "# 本文の数値とあわせるために、小数点以下3桁で丸める\n",
    "pd.set_option('display.precision', 3)\n",
    "\n",
    "# グラフ描画\n",
    "import matplotlib.pyplot as plt\n",
    "import seaborn as sns\n",
    "sns.set()\n",
    "\n",
    "# グラフの日本語表記\n",
    "from matplotlib import rcParams\n",
    "rcParams['font.family'] = 'sans-serif'\n",
    "rcParams['font.sans-serif'] = 'Meiryo'"
   ]
  },
  {
   "cell_type": "markdown",
   "metadata": {},
   "source": [
    "#### 評価対象となる予測"
   ]
  },
  {
   "cell_type": "code",
   "execution_count": 2,
   "metadata": {},
   "outputs": [
    {
     "name": "stdout",
     "output_type": "stream",
     "text": [
      "          予測-問題なし  予測-問題あり\n",
      "問題なし           0.35           0.05\n",
      "問題あり           0.10           0.50\n"
     ]
    }
   ],
   "source": [
    "joint_forecast_state = pd.DataFrame({\n",
    "    '予測-問題なし': [0.35, 0.1],\n",
    "    '予測-問題あり': [0.05, 0.5]\n",
    "})\n",
    "joint_forecast_state.index = ['問題なし', '問題あり']\n",
    "print(joint_forecast_state)"
   ]
  },
  {
   "cell_type": "code",
   "execution_count": 3,
   "metadata": {},
   "outputs": [
    {
     "data": {
      "text/plain": [
       "予測-問題なし    0.45\n",
       "予測-問題あり    0.55\n",
       "dtype: float64"
      ]
     },
     "execution_count": 3,
     "metadata": {},
     "output_type": "execute_result"
    }
   ],
   "source": [
    "# 予測の周辺分布\n",
    "marginal_forecast = joint_forecast_state.sum(axis=0)\n",
    "marginal_forecast"
   ]
  },
  {
   "cell_type": "code",
   "execution_count": 4,
   "metadata": {},
   "outputs": [
    {
     "data": {
      "text/plain": [
       "問題なし    0.4\n",
       "問題あり    0.6\n",
       "dtype: float64"
      ]
     },
     "execution_count": 4,
     "metadata": {},
     "output_type": "execute_result"
    }
   ],
   "source": [
    "# 自然の状態の周辺分布\n",
    "marginal_state = joint_forecast_state.sum(axis=1)\n",
    "marginal_state"
   ]
  },
  {
   "cell_type": "code",
   "execution_count": 5,
   "metadata": {},
   "outputs": [
    {
     "name": "stdout",
     "output_type": "stream",
     "text": [
      "          予測-問題なし  予測-問題あり\n",
      "問題なし          0.778          0.091\n",
      "問題あり          0.222          0.909\n"
     ]
    }
   ],
   "source": [
    "# 予測が得られた後の条件付き分布\n",
    "conditional_forecast = joint_forecast_state.div(marginal_forecast, axis=1)\n",
    "print(conditional_forecast)"
   ]
  },
  {
   "cell_type": "markdown",
   "metadata": {},
   "source": [
    "### CL比とユーザーの最適戦略の関係"
   ]
  },
  {
   "cell_type": "code",
   "execution_count": 6,
   "metadata": {
    "scrolled": false
   },
   "outputs": [],
   "source": [
    "# コストロス比は0から1の範囲を取る\n",
    "cl_ratio_array = np.arange(0.01, 1, 0.01)\n",
    "\n",
    "# スケーリングされた期待利得を求める\n",
    "# 常に対策なし\n",
    "esv_naive_1 = -1 * np.repeat(marginal_state['問題あり'], len(cl_ratio_array))\n",
    "# 常に対策あり\n",
    "esv_naive_2 = -1 * cl_ratio_array\n",
    "# 予測に忠実に従う\n",
    "esv_f = -1 * joint_forecast_state.loc['問題あり', '予測-問題なし'] \\\n",
    "        - cl_ratio_array * marginal_forecast['予測-問題あり']"
   ]
  },
  {
   "cell_type": "code",
   "execution_count": 7,
   "metadata": {},
   "outputs": [
    {
     "data": {
      "text/plain": [
       "<matplotlib.legend.Legend at 0x2121d8f7580>"
      ]
     },
     "execution_count": 7,
     "metadata": {},
     "output_type": "execute_result"
    },
    {
     "data": {
      "image/png": "[encoded data removed]",
      "text/plain": [
       "<Figure size 504x288 with 1 Axes>"
      ]
     },
     "metadata": {},
     "output_type": "display_data"
    }
   ],
   "source": [
    "# 描画オブジェクトを生成\n",
    "fig, ax = plt.subplots(figsize=(7, 4))\n",
    "\n",
    "# 折れ線グラフの描画\n",
    "ax.plot(cl_ratio_array, esv_naive_1, label='常に対策なし')\n",
    "ax.plot(cl_ratio_array, esv_naive_2, label='常に対策あり')\n",
    "ax.plot(cl_ratio_array, esv_f, label='予測に忠実に従う')\n",
    "\n",
    "# グラフの装飾\n",
    "ax.set_title('スケーリングされた期待利得', fontsize=15)  # タイトル\n",
    "ax.set_xlabel('CL比')                                    # X軸ラベル\n",
    "ax.legend(loc='upper right')                             # 凡例"
   ]
  },
  {
   "cell_type": "code",
   "execution_count": 8,
   "metadata": {},
   "outputs": [
    {
     "name": "stdout",
     "output_type": "stream",
     "text": [
      "予測が価値を生み出すCL比の範囲: 0.222～0.909\n"
     ]
    }
   ],
   "source": [
    "# 予測が価値を生み出す範囲\n",
    "lower = conditional_forecast.loc['問題あり', '予測-問題なし']\n",
    "upper = conditional_forecast.loc['問題あり', '予測-問題あり']\n",
    "\n",
    "print(f'予測が価値を生み出すCL比の範囲: {lower:.3g}～{upper:.3g}')"
   ]
  },
  {
   "cell_type": "markdown",
   "metadata": {},
   "source": [
    "### CL比で表現する予測の価値"
   ]
  },
  {
   "cell_type": "code",
   "execution_count": 9,
   "metadata": {},
   "outputs": [
    {
     "data": {
      "text/plain": [
       "<matplotlib.legend.Legend at 0x2121e064d90>"
      ]
     },
     "execution_count": 9,
     "metadata": {},
     "output_type": "execute_result"
    },
    {
     "data": {
      "image/png": "[encoded data removed]",
      "text/plain": [
       "<Figure size 504x288 with 1 Axes>"
      ]
     },
     "metadata": {},
     "output_type": "display_data"
    }
   ],
   "source": [
    "# 無技術最良予測に従うときの期待利得\n",
    "esv_naive = np.maximum(esv_naive_1, esv_naive_2)\n",
    "\n",
    "# 予測の価値\n",
    "value_f = esv_f - esv_naive\n",
    "\n",
    "# 描画オブジェクトを生成\n",
    "fig, ax = plt.subplots(figsize=(7, 4))\n",
    "\n",
    "# 折れ線グラフの描画\n",
    "ax.plot(cl_ratio_array, value_f, label='予測の価値')\n",
    "\n",
    "# 予測の価値が正である範囲\n",
    "ax.vlines(x=lower, ymin=-0.1, ymax=0.15, linestyle='--')\n",
    "ax.vlines(x=upper, ymin=-0.1, ymax=0.15, linestyle='--')\n",
    "\n",
    "# グラフの装飾\n",
    "ax.hlines(y=0, xmin=0, xmax=1, color='black')              # 高さ0の基準線\n",
    "ax.set_title('スケーリングされた予測の価値', fontsize=15)  # タイトル\n",
    "ax.set_xlabel('CL比')                                      # X軸ラベル\n",
    "ax.legend(loc='upper right')                               # 凡例"
   ]
  },
  {
   "cell_type": "code",
   "execution_count": 10,
   "metadata": {},
   "outputs": [],
   "source": [
    "# スケーリングされた予測の価値を計算する関数\n",
    "# 同時分布は以下の形式になっている必要がある\n",
    "# 1列目「予測-問題なし」・2列目「予測-問題あり」\n",
    "# 1行目「問題なし」・2行目「問題あり」\n",
    "def forecast_value(cl_ratio, joint_prob):\n",
    "    # 周辺分布\n",
    "    marginal_forecast = joint_prob.sum(axis=0)\n",
    "    marginal_state = joint_prob.sum(axis=1)\n",
    "    \n",
    "    # ESVの計算\n",
    "    # 常に対策なし\n",
    "    esv_naive_1 = -1 * marginal_state[1]\n",
    "    # 常に対策あり\n",
    "    esv_naive_2 = -1 * cl_ratio\n",
    "    # 予測に忠実に従う\n",
    "    esv_f = -1 * joint_prob.iloc[1, 0] - cl_ratio * marginal_forecast[1]\n",
    "    \n",
    "    # 予測の価値の計算\n",
    "    # 無技術最良予測\n",
    "    esv_naive = np.maximum(esv_naive_1, esv_naive_2)\n",
    "    # 予測の価値\n",
    "    value_f = esv_f - esv_naive\n",
    "    return(value_f)"
   ]
  },
  {
   "cell_type": "code",
   "execution_count": 11,
   "metadata": {},
   "outputs": [],
   "source": [
    "# 関数を使うと、以下のようにして、CL比を変化させたときの予測の価値を計算できる\n",
    "value_f_func = np.apply_along_axis(func1d=forecast_value, \n",
    "                                   axis=0, \n",
    "                                   arr=cl_ratio_array, \n",
    "                                   joint_prob=joint_forecast_state)"
   ]
  },
  {
   "cell_type": "code",
   "execution_count": 12,
   "metadata": {},
   "outputs": [
    {
     "data": {
      "text/plain": [
       "True"
      ]
     },
     "execution_count": 12,
     "metadata": {},
     "output_type": "execute_result"
    }
   ],
   "source": [
    "# 正しく計算されていることの確認\n",
    "all(value_f == value_f_func)"
   ]
  },
  {
   "cell_type": "code",
   "execution_count": 13,
   "metadata": {},
   "outputs": [
    {
     "name": "stdout",
     "output_type": "stream",
     "text": [
      "CL比が0.4のユーザーの予測の価値: 0.08\n"
     ]
    }
   ],
   "source": [
    "value_04 = forecast_value(0.4, joint_forecast_state)\n",
    "print(f'CL比が0.4のユーザーの予測の価値: {value_04:.3g}')"
   ]
  },
  {
   "cell_type": "code",
   "execution_count": 14,
   "metadata": {},
   "outputs": [
    {
     "name": "stdout",
     "output_type": "stream",
     "text": [
      "CL比が0.4、Lが1000万のユーザーの予測の価値: 80万\n"
     ]
    }
   ],
   "source": [
    "print(f'CL比が0.4、Lが1000万のユーザーの予測の価値: {value_04*1000:.3g}万')"
   ]
  },
  {
   "cell_type": "markdown",
   "metadata": {},
   "source": [
    "### 予測の的中率と予測の価値の関係"
   ]
  },
  {
   "cell_type": "code",
   "execution_count": 15,
   "metadata": {},
   "outputs": [],
   "source": [
    "# 予測が価値を生み出すために必要な的中率を求める関数\n",
    "def required_accuracy(cl_ratio, p_theta):\n",
    "    ret = np.where(cl_ratio >= p_theta,              # 条件\n",
    "                   1 - 2 * p_theta * (1 - cl_ratio), # 条件を満たすとき\n",
    "                   1 - 2 * cl_ratio * (1 - p_theta)) # 満たさないとき\n",
    "    return(ret)"
   ]
  },
  {
   "cell_type": "code",
   "execution_count": 16,
   "metadata": {},
   "outputs": [
    {
     "data": {
      "text/plain": [
       "array(0.92)"
      ]
     },
     "execution_count": 16,
     "metadata": {},
     "output_type": "execute_result"
    }
   ],
   "source": [
    "# CL比=0.2の予測ユーザーに対して、「問題あり」確率=0.8のとき\n",
    "# 予測が価値を生み出すのに最低限必要な的中率\n",
    "required_accuracy(cl_ratio=0.2, p_theta=0.8)"
   ]
  },
  {
   "cell_type": "code",
   "execution_count": 17,
   "metadata": {
    "scrolled": false
   },
   "outputs": [
    {
     "data": {
      "text/plain": [
       "<matplotlib.legend.Legend at 0x2121e0cbc10>"
      ]
     },
     "execution_count": 17,
     "metadata": {},
     "output_type": "execute_result"
    },
    {
     "data": {
      "image/png": "[encoded data removed]",
      "text/plain": [
       "<Figure size 504x288 with 1 Axes>"
      ]
     },
     "metadata": {},
     "output_type": "display_data"
    }
   ],
   "source": [
    "# CL比\n",
    "cl_ratio_array = np.arange(0.01, 1, 0.01)\n",
    "\n",
    "# 予測が価値を生み出すために必要な的中率\n",
    "req_acc09 = np.apply_along_axis(required_accuracy, 0, cl_ratio_array, 0.9)\n",
    "req_acc07 = np.apply_along_axis(required_accuracy, 0, cl_ratio_array, 0.7)\n",
    "req_acc05 = np.apply_along_axis(required_accuracy, 0, cl_ratio_array, 0.5)\n",
    "req_acc03 = np.apply_along_axis(required_accuracy, 0, cl_ratio_array, 0.3)\n",
    "req_acc01 = np.apply_along_axis(required_accuracy, 0, cl_ratio_array, 0.1)\n",
    "\n",
    "# 描画オブジェクトを生成\n",
    "fig, ax = plt.subplots(figsize=(7, 4))\n",
    "\n",
    "# 折れ線グラフの描画\n",
    "ax.plot(cl_ratio_array, req_acc09, label=r'$P(\\theta_2)=0.9$')\n",
    "ax.plot(cl_ratio_array, req_acc07, label=r'$P(\\theta_2)=0.7$')\n",
    "ax.plot(cl_ratio_array, req_acc05, label=r'$P(\\theta_2)=0.5$')\n",
    "ax.plot(cl_ratio_array, req_acc03, label=r'$P(\\theta_2)=0.3$')\n",
    "ax.plot(cl_ratio_array, req_acc01, label=r'$P(\\theta_2)=0.1$')\n",
    "\n",
    "# グラフの装飾\n",
    "ax.set_title('予測が価値を生むために必要な的中率', fontsize=15)  # タイトル\n",
    "ax.set_ylim(0.49, 1.01)                                          # Y軸の範囲\n",
    "ax.set_xlabel('CL比')                                            # X軸ラベル\n",
    "ax.set_ylabel('的中率')                                          # Y軸ラベル\n",
    "ax.legend()                                                      # 凡例"
   ]
  },
  {
   "cell_type": "markdown",
   "metadata": {},
   "source": [
    "### 個別ユーザーのための予測の最適化"
   ]
  },
  {
   "cell_type": "code",
   "execution_count": 18,
   "metadata": {},
   "outputs": [],
   "source": [
    "# 的中率を求める関数\n",
    "def accuracy(joint_prob):\n",
    "    return(joint_prob.iloc[0, 0] + joint_prob.iloc[1, 1])"
   ]
  },
  {
   "cell_type": "code",
   "execution_count": 19,
   "metadata": {},
   "outputs": [
    {
     "name": "stdout",
     "output_type": "stream",
     "text": [
      "的中率： 0.8\n",
      "          予測-問題なし  予測-問題あり\n",
      "問題なし            0.4            0.1\n",
      "問題あり            0.1            0.4\n"
     ]
    }
   ],
   "source": [
    "# バイアスのない予測\n",
    "zero_bias = pd.DataFrame({\n",
    "    '予測-問題なし': [0.4, 0.1],\n",
    "    '予測-問題あり': [0.1, 0.4]\n",
    "})\n",
    "zero_bias.index = ['問題なし', '問題あり']\n",
    "print('的中率：', accuracy(zero_bias))\n",
    "print(zero_bias)"
   ]
  },
  {
   "cell_type": "code",
   "execution_count": 20,
   "metadata": {},
   "outputs": [
    {
     "name": "stdout",
     "output_type": "stream",
     "text": [
      "的中率： 0.75\n",
      "          予測-問題なし  予測-問題あり\n",
      "問題なし           0.30           0.20\n",
      "問題あり           0.05           0.45\n"
     ]
    }
   ],
   "source": [
    "# 見逃し(偽陰性：False Negative)を減らした予測\n",
    "decrease_fn = pd.DataFrame({\n",
    "    '予測-問題なし': [0.3, 0.05],\n",
    "    '予測-問題あり': [0.2, 0.45]\n",
    "})\n",
    "decrease_fn.index = ['問題なし', '問題あり']\n",
    "print('的中率：', accuracy(decrease_fn))\n",
    "print(decrease_fn)"
   ]
  },
  {
   "cell_type": "code",
   "execution_count": 21,
   "metadata": {},
   "outputs": [
    {
     "name": "stdout",
     "output_type": "stream",
     "text": [
      "的中率： 0.75\n",
      "          予測-問題なし  予測-問題あり\n",
      "問題なし           0.45           0.05\n",
      "問題あり           0.20           0.30\n"
     ]
    }
   ],
   "source": [
    "# 空振り(偽陽性：False Positive)を減らした予測\n",
    "decrease_fp = pd.DataFrame({\n",
    "    '予測-問題なし': [0.45, 0.2],\n",
    "    '予測-問題あり': [0.05, 0.3]\n",
    "})\n",
    "decrease_fp.index = ['問題なし', '問題あり']\n",
    "print('的中率：', accuracy(decrease_fp))\n",
    "print(decrease_fp)"
   ]
  },
  {
   "cell_type": "code",
   "execution_count": 22,
   "metadata": {},
   "outputs": [
    {
     "name": "stdout",
     "output_type": "stream",
     "text": [
      "バイアスなし予測の価値: 0.15\n",
      "見逃し減少予測の価値　: 0.125\n",
      "空振り減少予測の価値　: 0.125\n"
     ]
    }
   ],
   "source": [
    "# CL比が0.5の予測ユーザーにとっての予測の価値\n",
    "print(f'バイアスなし予測の価値: {forecast_value(0.5, zero_bias):.3g}')\n",
    "print(f'見逃し減少予測の価値　: {forecast_value(0.5, decrease_fn):.3g}')\n",
    "print(f'空振り減少予測の価値　: {forecast_value(0.5, decrease_fp):.3g}')"
   ]
  },
  {
   "cell_type": "code",
   "execution_count": 23,
   "metadata": {},
   "outputs": [
    {
     "name": "stdout",
     "output_type": "stream",
     "text": [
      "バイアスなし予測の価値: 0.05\n",
      "見逃し減少予測の価値　: 0.055\n",
      "空振り減少予測の価値　: -0.005\n"
     ]
    }
   ],
   "source": [
    "# CL比が0.3の予測ユーザーにとっての予測の価値\n",
    "print(f'バイアスなし予測の価値: {forecast_value(0.3, zero_bias):.3g}')\n",
    "print(f'見逃し減少予測の価値　: {forecast_value(0.3, decrease_fn):.3g}')\n",
    "print(f'空振り減少予測の価値　: {forecast_value(0.3, decrease_fp):.3g}')"
   ]
  },
  {
   "cell_type": "code",
   "execution_count": 24,
   "metadata": {},
   "outputs": [
    {
     "name": "stdout",
     "output_type": "stream",
     "text": [
      "バイアスなし予測の価値: 0.05\n",
      "見逃し減少予測の価値　: -0.005\n",
      "空振り減少予測の価値　: 0.055\n"
     ]
    }
   ],
   "source": [
    "# CL比が0.7の予測ユーザーにとっての予測の価値\n",
    "print(f'バイアスなし予測の価値: {forecast_value(0.7, zero_bias):.3g}')\n",
    "print(f'見逃し減少予測の価値　: {forecast_value(0.7, decrease_fn):.3g}')\n",
    "print(f'空振り減少予測の価値　: {forecast_value(0.7, decrease_fp):.3g}')"
   ]
  },
  {
   "cell_type": "markdown",
   "metadata": {},
   "source": [
    "### 完全的中予測の価値"
   ]
  },
  {
   "cell_type": "code",
   "execution_count": 25,
   "metadata": {},
   "outputs": [],
   "source": [
    "# Lで標準化された完全的中予測の価値を計算する関数\n",
    "def perfect_forecast_value(cl_ratio, marginal_state):\n",
    "    # ESVの計算\n",
    "    # 常に対策なし\n",
    "    esv_naive_1 = -1 * marginal_state[1]\n",
    "    # 常に対策あり\n",
    "    esv_naive_2 = -1 * cl_ratio\n",
    "    # 完全的中予測に従う\n",
    "    esv_perfect = -1 * cl_ratio * marginal_state[1]\n",
    "    \n",
    "    # 予測の価値の計算\n",
    "    # 無技術最良予測\n",
    "    esv_naive = np.maximum(esv_naive_1, esv_naive_2)\n",
    "    # 予測の価値\n",
    "    value_p = esv_perfect - esv_naive\n",
    "    return(value_p)"
   ]
  },
  {
   "cell_type": "code",
   "execution_count": 26,
   "metadata": {},
   "outputs": [
    {
     "name": "stdout",
     "output_type": "stream",
     "text": [
      "CL比が0.4のユーザーの完全的中予測の価値: 0.16\n"
     ]
    }
   ],
   "source": [
    "value_p = perfect_forecast_value(0.4, marginal_state)\n",
    "print(f'CL比が0.4のユーザーの完全的中予測の価値: {value_p:.3g}')"
   ]
  },
  {
   "cell_type": "markdown",
   "metadata": {},
   "source": [
    "### 予測の有効性"
   ]
  },
  {
   "cell_type": "code",
   "execution_count": 27,
   "metadata": {},
   "outputs": [
    {
     "name": "stdout",
     "output_type": "stream",
     "text": [
      "予測の有効性: 0.5\n"
     ]
    }
   ],
   "source": [
    "# 予測の価値と、完全的中予測の価値\n",
    "value_p = perfect_forecast_value(0.4, marginal_state)\n",
    "value_f = forecast_value(0.4, joint_forecast_state)\n",
    "\n",
    "# 予測の有効性\n",
    "efficiency = value_f / value_p\n",
    "print(f'予測の有効性: {efficiency:.3g}')"
   ]
  },
  {
   "cell_type": "code",
   "execution_count": 28,
   "metadata": {},
   "outputs": [
    {
     "data": {
      "text/plain": [
       "<matplotlib.legend.Legend at 0x2121d896e20>"
      ]
     },
     "execution_count": 28,
     "metadata": {},
     "output_type": "execute_result"
    },
    {
     "data": {
      "image/png": "[encoded data removed]",
      "text/plain": [
       "<Figure size 504x288 with 1 Axes>"
      ]
     },
     "metadata": {},
     "output_type": "display_data"
    }
   ],
   "source": [
    "# CL比\n",
    "cl_ratio_array = np.arange(0.01, 1, 0.01)\n",
    "\n",
    "# 予測の価値\n",
    "value_f = np.apply_along_axis(forecast_value, 0, \n",
    "                              cl_ratio_array, joint_forecast_state)\n",
    "\n",
    "# 完全的中予測の価値\n",
    "value_p = np.apply_along_axis(perfect_forecast_value, 0, \n",
    "                              cl_ratio_array, marginal_state)\n",
    "\n",
    "# 完全的中予測の価値で標準化された予測の価値\n",
    "efficiency = value_f / value_p\n",
    "\n",
    "# 描画オブジェクトを生成\n",
    "fig, ax = plt.subplots(figsize=(7, 4))\n",
    "\n",
    "# 折れ線グラフの描画\n",
    "ax.plot(cl_ratio_array, value_f, label='予測の価値')\n",
    "ax.plot(cl_ratio_array, value_p, label='完全的中予測の価値')\n",
    "ax.plot(cl_ratio_array, efficiency, label='予測の有効性')\n",
    "\n",
    "# グラフの装飾\n",
    "ax.set_title('予測の価値と有効性', fontsize=15)  # タイトル\n",
    "ax.set_ylim(-0.01, 1.01)                         # Y軸の範囲\n",
    "ax.set_xlabel('CL比')                            # X軸ラベル\n",
    "ax.legend()                                      # 凡例"
   ]
  },
  {
   "cell_type": "markdown",
   "metadata": {},
   "source": [
    "### Claytonのスキルスコア"
   ]
  },
  {
   "cell_type": "code",
   "execution_count": 29,
   "metadata": {},
   "outputs": [
    {
     "name": "stdout",
     "output_type": "stream",
     "text": [
      "Claytonのスキルスコア: 0.687\n"
     ]
    }
   ],
   "source": [
    "# 予測が価値を生み出す範囲\n",
    "lower = conditional_forecast.loc['問題あり', '予測-問題なし']\n",
    "upper = conditional_forecast.loc['問題あり', '予測-問題あり']\n",
    "\n",
    "clayton = upper - lower\n",
    "print(f'Claytonのスキルスコア: {clayton:.3g}')"
   ]
  },
  {
   "cell_type": "markdown",
   "metadata": {},
   "source": [
    "### Peirceのスキルスコア"
   ]
  },
  {
   "cell_type": "code",
   "execution_count": 30,
   "metadata": {},
   "outputs": [
    {
     "name": "stdout",
     "output_type": "stream",
     "text": [
      "Peirceのスキルスコア: 0.708\n"
     ]
    }
   ],
   "source": [
    "# efficiencyの最大値として Peirceのスキルスコアを求める\n",
    "print(f'Peirceのスキルスコア: {max(efficiency):.3g}')"
   ]
  },
  {
   "cell_type": "code",
   "execution_count": 31,
   "metadata": {},
   "outputs": [
    {
     "name": "stdout",
     "output_type": "stream",
     "text": [
      "          予測-問題なし  予測-問題あり\n",
      "問題なし          0.875          0.125\n",
      "問題あり          0.167          0.833\n"
     ]
    }
   ],
   "source": [
    "# 自然の状態が得られた後の条件付き分布\n",
    "conditional_state = joint_forecast_state.div(marginal_state, axis=0)\n",
    "print(conditional_state)"
   ]
  },
  {
   "cell_type": "code",
   "execution_count": 32,
   "metadata": {},
   "outputs": [
    {
     "name": "stdout",
     "output_type": "stream",
     "text": [
      "Peirceのスキルスコア: 0.708\n"
     ]
    }
   ],
   "source": [
    "# 条件付き分布からPeirceのスキルスコアを求める\n",
    "peirce = conditional_state.loc['問題あり', '予測-問題あり'] \\\n",
    "       - conditional_state.loc['問題なし', '予測-問題あり']\n",
    "print(f'Peirceのスキルスコア: {peirce:.3g}')"
   ]
  }
 ],
 "metadata": {
  "kernelspec": {
   "display_name": "Python 3",
   "language": "python",
   "name": "python3"
  },
  "language_info": {
   "codemirror_mode": {
    "name": "ipython",
    "version": 3
   },
   "file_extension": ".py",
   "mimetype": "text/x-python",
   "name": "python",
   "nbconvert_exporter": "python",
   "pygments_lexer": "ipython3",
   "version": "3.8.3"
  }
 },
 "nbformat": 4,
 "nbformat_minor": 4
}
