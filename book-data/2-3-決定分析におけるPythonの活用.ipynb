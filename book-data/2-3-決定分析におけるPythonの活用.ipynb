{
 "cells": [
  {
   "cell_type": "markdown",
   "metadata": {},
   "source": [
    "# 意思決定分析と予測の活用｜第2部 決定分析の基礎\n",
    "https://logics-of-blue.com/decision-analysis-and-forecast-book-support/"
   ]
  },
  {
   "cell_type": "markdown",
   "metadata": {},
   "source": [
    "## 第3章\t決定分析におけるPythonの活用"
   ]
  },
  {
   "cell_type": "markdown",
   "metadata": {},
   "source": [
    "### 分析の準備"
   ]
  },
  {
   "cell_type": "code",
   "execution_count": 1,
   "metadata": {},
   "outputs": [],
   "source": [
    "# 数値計算に使うライブラリ\n",
    "import numpy as np\n",
    "import pandas as pd\n",
    "\n",
    "# DataFrameの全角文字の出力をきれいにする\n",
    "pd.set_option('display.unicode.east_asian_width', True)"
   ]
  },
  {
   "cell_type": "markdown",
   "metadata": {},
   "source": [
    "## 利得行列の作成"
   ]
  },
  {
   "cell_type": "markdown",
   "metadata": {},
   "source": [
    "### 利得行列の作成"
   ]
  },
  {
   "cell_type": "code",
   "execution_count": 2,
   "metadata": {},
   "outputs": [],
   "source": [
    "# 利得を計算する際のパラメータ\n",
    "fixed_cost = 100            # 工場の固定費用(万円)\n",
    "run_cost = 600              # 機械1台の稼働コスト(万円)\n",
    "sale_price = 0.2            # 製品1つの販売価格(万円)\n",
    "\n",
    "machine_ability = 5000      # 機械1台で作られる製品数(個)\n",
    "demand_boom = 10000         # 好況時の需要量(個)\n",
    "demand_slump = 5000         # 不況時の需要量(個)"
   ]
  },
  {
   "cell_type": "code",
   "execution_count": 3,
   "metadata": {},
   "outputs": [
    {
     "name": "stdout",
     "output_type": "stream",
     "text": [
      "      0台   1台    2台\n",
      "好況    0  5000  10000\n",
      "不況    0  5000   5000\n"
     ]
    }
   ],
   "source": [
    "# 出荷される製品の個数\n",
    "num_product_df = pd.DataFrame({\n",
    "    '0台': [0, 0],\n",
    "    '1台': [min([machine_ability, demand_boom]), \n",
    "            min([machine_ability, demand_slump])],\n",
    "    '2台': [min([machine_ability * 2, demand_boom]), \n",
    "            min([machine_ability * 2, demand_slump])]\n",
    "})\n",
    "num_product_df.index = ['好況', '不況']\n",
    "print(num_product_df)"
   ]
  },
  {
   "cell_type": "code",
   "execution_count": 4,
   "metadata": {},
   "outputs": [
    {
     "name": "stdout",
     "output_type": "stream",
     "text": [
      "      0台     1台     2台\n",
      "好況  0.0  1000.0  2000.0\n",
      "不況  0.0  1000.0  1000.0\n"
     ]
    }
   ],
   "source": [
    "# 売上行列\n",
    "sales_df = num_product_df * sale_price\n",
    "print(sales_df)"
   ]
  },
  {
   "cell_type": "code",
   "execution_count": 5,
   "metadata": {},
   "outputs": [
    {
     "name": "stdout",
     "output_type": "stream",
     "text": [
      "      0台  1台   2台\n",
      "好況  100  700  1300\n",
      "不況  100  700  1300\n"
     ]
    }
   ],
   "source": [
    "# 製造コスト\n",
    "run_cost_df = pd.DataFrame({\n",
    "    '0台': np.repeat(fixed_cost               , 2),\n",
    "    '1台': np.repeat(fixed_cost + run_cost    , 2),\n",
    "    '2台': np.repeat(fixed_cost + run_cost * 2, 2)\n",
    "})\n",
    "run_cost_df.index = ['好況', '不況']\n",
    "print(run_cost_df)"
   ]
  },
  {
   "cell_type": "code",
   "execution_count": 6,
   "metadata": {},
   "outputs": [
    {
     "name": "stdout",
     "output_type": "stream",
     "text": [
      "        0台    1台    2台\n",
      "好況 -100.0  300.0  700.0\n",
      "不況 -100.0  300.0 -300.0\n"
     ]
    }
   ],
   "source": [
    "# 利得行列\n",
    "payoff_df = sales_df - run_cost_df\n",
    "print(payoff_df)"
   ]
  },
  {
   "cell_type": "markdown",
   "metadata": {},
   "source": [
    "### 利得行列を得る関数の作成"
   ]
  },
  {
   "cell_type": "code",
   "execution_count": 7,
   "metadata": {},
   "outputs": [],
   "source": [
    "def calc_payoff_table(fixed_cost, run_cost, sale_price, \n",
    "                      machine_ability, demand_boom, demand_slump):\n",
    "    # 出荷される製品の個数\n",
    "    num_product_df = pd.DataFrame({\n",
    "        '0台': [0,0],\n",
    "        '1台': [min([machine_ability, demand_boom]), \n",
    "                min([machine_ability, demand_slump])],\n",
    "        '2台': [min([machine_ability * 2, demand_boom]), \n",
    "                min([machine_ability * 2, demand_slump])]\n",
    "    })\n",
    "    # 売り上げ行列\n",
    "    sales_df = num_product_df * sale_price\n",
    "    # 製造コスト\n",
    "    run_cost_df = pd.DataFrame({\n",
    "        '0台': np.repeat(fixed_cost               , 2),\n",
    "        '1台': np.repeat(fixed_cost + run_cost    , 2),\n",
    "        '2台': np.repeat(fixed_cost + run_cost * 2, 2)\n",
    "    })\n",
    "    # 利得行列\n",
    "    payoff_df = sales_df - run_cost_df\n",
    "    payoff_df.index = ['好況', '不況']\n",
    "    # 結果を返す\n",
    "    return(payoff_df)"
   ]
  },
  {
   "cell_type": "code",
   "execution_count": 8,
   "metadata": {},
   "outputs": [
    {
     "name": "stdout",
     "output_type": "stream",
     "text": [
      "        0台    1台    2台\n",
      "好況 -100.0  300.0  700.0\n",
      "不況 -100.0  300.0 -300.0\n"
     ]
    }
   ],
   "source": [
    "# 利得行列の計算\n",
    "payoff = calc_payoff_table(fixed_cost=100, run_cost=600, sale_price=0.2, \n",
    "                           machine_ability=5000, demand_boom=10000, \n",
    "                           demand_slump=5000)\n",
    "print(payoff)"
   ]
  },
  {
   "cell_type": "markdown",
   "metadata": {},
   "source": [
    "## 決定基準の実装"
   ]
  },
  {
   "cell_type": "markdown",
   "metadata": {},
   "source": [
    "### マキシマックス基準"
   ]
  },
  {
   "cell_type": "code",
   "execution_count": 9,
   "metadata": {},
   "outputs": [
    {
     "data": {
      "text/plain": [
       "0台   -100.0\n",
       "1台    300.0\n",
       "2台    700.0\n",
       "dtype: float64"
      ]
     },
     "execution_count": 9,
     "metadata": {},
     "output_type": "execute_result"
    }
   ],
   "source": [
    "# 選択肢ごとの最大利得\n",
    "payoff.max()"
   ]
  },
  {
   "cell_type": "code",
   "execution_count": 10,
   "metadata": {},
   "outputs": [
    {
     "data": {
      "text/plain": [
       "700.0"
      ]
     },
     "execution_count": 10,
     "metadata": {},
     "output_type": "execute_result"
    }
   ],
   "source": [
    "payoff.max().max()"
   ]
  },
  {
   "cell_type": "code",
   "execution_count": 11,
   "metadata": {},
   "outputs": [
    {
     "data": {
      "text/plain": [
       "'2台'"
      ]
     },
     "execution_count": 11,
     "metadata": {},
     "output_type": "execute_result"
    }
   ],
   "source": [
    "# 参考(使わない)\n",
    "payoff.max().idxmax()"
   ]
  },
  {
   "cell_type": "code",
   "execution_count": 12,
   "metadata": {},
   "outputs": [
    {
     "data": {
      "text/plain": [
       "0台    False\n",
       "1台    False\n",
       "2台     True\n",
       "dtype: bool"
      ]
     },
     "execution_count": 12,
     "metadata": {},
     "output_type": "execute_result"
    }
   ],
   "source": [
    "# 最大値と等しい利得を持っているかどうかを調べる\n",
    "payoff.max() == payoff.max().max()"
   ]
  },
  {
   "cell_type": "code",
   "execution_count": 13,
   "metadata": {},
   "outputs": [
    {
     "data": {
      "text/plain": [
       "2台    700.0\n",
       "dtype: float64"
      ]
     },
     "execution_count": 13,
     "metadata": {},
     "output_type": "execute_result"
    }
   ],
   "source": [
    "# 最大値と等しい利得を持つ要素を取得する\n",
    "payoff.max()[payoff.max() == payoff.max().max()]"
   ]
  },
  {
   "cell_type": "code",
   "execution_count": 14,
   "metadata": {},
   "outputs": [
    {
     "data": {
      "text/plain": [
       "['2台']"
      ]
     },
     "execution_count": 14,
     "metadata": {},
     "output_type": "execute_result"
    }
   ],
   "source": [
    "# インデックスだけを取得する\n",
    "list(payoff.max()[payoff.max() == payoff.max().max()].index)"
   ]
  },
  {
   "cell_type": "code",
   "execution_count": 15,
   "metadata": {},
   "outputs": [],
   "source": [
    "# 最大値をとるインデックスを取得する。最大値が複数ある場合はすべて出力する。\n",
    "def argmax_list(series):\n",
    "    return(list(series[series == series.max()].index))"
   ]
  },
  {
   "cell_type": "code",
   "execution_count": 16,
   "metadata": {},
   "outputs": [],
   "source": [
    "# 最小値をとるインデックスを取得する。最小値が複数ある場合はすべて出力する。\n",
    "def argmin_list(series):\n",
    "    return(list(series[series == series.min()].index))"
   ]
  },
  {
   "cell_type": "code",
   "execution_count": 17,
   "metadata": {},
   "outputs": [
    {
     "name": "stdout",
     "output_type": "stream",
     "text": [
      "Maximax: ['2台']\n"
     ]
    }
   ],
   "source": [
    "print('Maximax:', argmax_list(payoff.max()))"
   ]
  },
  {
   "cell_type": "markdown",
   "metadata": {},
   "source": [
    "### マキシミン基準"
   ]
  },
  {
   "cell_type": "code",
   "execution_count": 18,
   "metadata": {},
   "outputs": [
    {
     "data": {
      "text/plain": [
       "0台   -100.0\n",
       "1台    300.0\n",
       "2台   -300.0\n",
       "dtype: float64"
      ]
     },
     "execution_count": 18,
     "metadata": {},
     "output_type": "execute_result"
    }
   ],
   "source": [
    "# 選択肢ごとの最小利得\n",
    "payoff.min()"
   ]
  },
  {
   "cell_type": "code",
   "execution_count": 19,
   "metadata": {},
   "outputs": [
    {
     "name": "stdout",
     "output_type": "stream",
     "text": [
      "Maximin: ['1台']\n"
     ]
    }
   ],
   "source": [
    "print('Maximin:', argmax_list(payoff.min()))"
   ]
  },
  {
   "cell_type": "markdown",
   "metadata": {},
   "source": [
    "### ハーヴィッツの基準"
   ]
  },
  {
   "cell_type": "code",
   "execution_count": 20,
   "metadata": {},
   "outputs": [
    {
     "data": {
      "text/plain": [
       "0台   -100.0\n",
       "1台    300.0\n",
       "2台    300.0\n",
       "dtype: float64"
      ]
     },
     "execution_count": 20,
     "metadata": {},
     "output_type": "execute_result"
    }
   ],
   "source": [
    "# alpha=0.6としたときのハーヴィッツの基準\n",
    "hurwicz = payoff.max() * 0.6 + payoff.min() * (1 - 0.6)\n",
    "hurwicz"
   ]
  },
  {
   "cell_type": "code",
   "execution_count": 21,
   "metadata": {},
   "outputs": [
    {
     "data": {
      "text/plain": [
       "['1台', '2台']"
      ]
     },
     "execution_count": 21,
     "metadata": {},
     "output_type": "execute_result"
    }
   ],
   "source": [
    "argmax_list(hurwicz)"
   ]
  },
  {
   "cell_type": "code",
   "execution_count": 22,
   "metadata": {},
   "outputs": [],
   "source": [
    "# ハーヴィッツの基準による決定を行う関数\n",
    "def hurwicz(payoff_table, alpha):\n",
    "    hurwicz = payoff_table.max() * alpha + payoff_table.min() * (1 - alpha)\n",
    "    return(argmax_list(hurwicz))"
   ]
  },
  {
   "cell_type": "code",
   "execution_count": 23,
   "metadata": {},
   "outputs": [
    {
     "name": "stdout",
     "output_type": "stream",
     "text": [
      "Hurwicz: ['1台', '2台']\n"
     ]
    }
   ],
   "source": [
    "print('Hurwicz:', hurwicz(payoff, 0.6))"
   ]
  },
  {
   "cell_type": "code",
   "execution_count": 24,
   "metadata": {},
   "outputs": [
    {
     "name": "stdout",
     "output_type": "stream",
     "text": [
      "Hurwicz: ['2台']\n"
     ]
    }
   ],
   "source": [
    "print('Hurwicz:', hurwicz(payoff, 0.7))"
   ]
  },
  {
   "cell_type": "code",
   "execution_count": 25,
   "metadata": {},
   "outputs": [
    {
     "name": "stdout",
     "output_type": "stream",
     "text": [
      "Hurwicz: ['1台']\n"
     ]
    }
   ],
   "source": [
    "print('Hurwicz:', hurwicz(payoff, 0.5))"
   ]
  },
  {
   "cell_type": "markdown",
   "metadata": {},
   "source": [
    "### ミニマックスリグレット基準"
   ]
  },
  {
   "cell_type": "code",
   "execution_count": 26,
   "metadata": {},
   "outputs": [
    {
     "name": "stdout",
     "output_type": "stream",
     "text": [
      "        0台    1台    2台\n",
      "好況  700.0  700.0  700.0\n",
      "不況  300.0  300.0  300.0\n"
     ]
    }
   ],
   "source": [
    "# 「最も利得が高くなる選択」をとったときの利得\n",
    "best_df = pd.concat([payoff.max(axis=1)] * payoff.shape[1], axis=1)\n",
    "best_df.columns = payoff.columns\n",
    "print(best_df)"
   ]
  },
  {
   "cell_type": "code",
   "execution_count": 27,
   "metadata": {},
   "outputs": [
    {
     "data": {
      "text/plain": [
       "[好況    700.0\n",
       " 不況    300.0\n",
       " dtype: float64,\n",
       " 好況    700.0\n",
       " 不況    300.0\n",
       " dtype: float64]"
      ]
     },
     "execution_count": 27,
     "metadata": {},
     "output_type": "execute_result"
    }
   ],
   "source": [
    "# 参考：Seriesを複製\n",
    "[payoff.max(axis=1)] * 2"
   ]
  },
  {
   "cell_type": "code",
   "execution_count": 28,
   "metadata": {},
   "outputs": [
    {
     "name": "stdout",
     "output_type": "stream",
     "text": [
      "        0台    1台    2台\n",
      "好況  800.0  400.0    0.0\n",
      "不況  400.0    0.0  600.0\n"
     ]
    }
   ],
   "source": [
    "# リグレット\n",
    "regret_df = best_df - payoff\n",
    "print(regret_df)"
   ]
  },
  {
   "cell_type": "code",
   "execution_count": 29,
   "metadata": {},
   "outputs": [
    {
     "data": {
      "text/plain": [
       "0台    800.0\n",
       "1台    400.0\n",
       "2台    600.0\n",
       "dtype: float64"
      ]
     },
     "execution_count": 29,
     "metadata": {},
     "output_type": "execute_result"
    }
   ],
   "source": [
    "# 各々の選択肢におけるリグレットの最大値\n",
    "regret_df.max()"
   ]
  },
  {
   "cell_type": "code",
   "execution_count": 30,
   "metadata": {},
   "outputs": [
    {
     "data": {
      "text/plain": [
       "['1台']"
      ]
     },
     "execution_count": 30,
     "metadata": {},
     "output_type": "execute_result"
    }
   ],
   "source": [
    "argmin_list(regret_df.max())"
   ]
  },
  {
   "cell_type": "code",
   "execution_count": 31,
   "metadata": {},
   "outputs": [],
   "source": [
    "# ミニマックスリグレット基準による決定を行う関数\n",
    "def minimax_regret(payoff_table):\n",
    "    best_df = pd.concat(\n",
    "        [payoff_table.max(axis=1)] * payoff_table.shape[1], axis=1)\n",
    "    best_df.columns = payoff_table.columns\n",
    "    regret_df = best_df - payoff_table\n",
    "    return(argmin_list(regret_df.max()))"
   ]
  },
  {
   "cell_type": "code",
   "execution_count": 32,
   "metadata": {},
   "outputs": [
    {
     "name": "stdout",
     "output_type": "stream",
     "text": [
      "Minimax regret: ['1台']\n"
     ]
    }
   ],
   "source": [
    "print('Minimax regret:', minimax_regret(payoff))"
   ]
  },
  {
   "cell_type": "markdown",
   "metadata": {},
   "source": [
    "### ラプラスの基準"
   ]
  },
  {
   "cell_type": "code",
   "execution_count": 33,
   "metadata": {
    "scrolled": true
   },
   "outputs": [
    {
     "data": {
      "text/plain": [
       "0台   -100.0\n",
       "1台    300.0\n",
       "2台    200.0\n",
       "dtype: float64"
      ]
     },
     "execution_count": 33,
     "metadata": {},
     "output_type": "execute_result"
    }
   ],
   "source": [
    "# 選択肢ごとの利得の平均値\n",
    "payoff.mean()"
   ]
  },
  {
   "cell_type": "code",
   "execution_count": 34,
   "metadata": {},
   "outputs": [
    {
     "name": "stdout",
     "output_type": "stream",
     "text": [
      "Laplace: ['1台']\n"
     ]
    }
   ],
   "source": [
    "print('Laplace:', argmax_list(payoff.mean()))"
   ]
  },
  {
   "cell_type": "markdown",
   "metadata": {},
   "source": [
    "### 感度分析"
   ]
  },
  {
   "cell_type": "code",
   "execution_count": 35,
   "metadata": {},
   "outputs": [
    {
     "name": "stdout",
     "output_type": "stream",
     "text": [
      "        0台    1台    2台\n",
      "好況 -100.0  275.0  650.0\n",
      "不況 -100.0  275.0 -350.0\n"
     ]
    }
   ],
   "source": [
    "# 機械1台の稼働コストを増やした\n",
    "payoff_2 = calc_payoff_table(fixed_cost=100, run_cost=625, sale_price=0.2, \n",
    "                             machine_ability=5000, demand_boom=10000, \n",
    "                             demand_slump=5000)\n",
    "print(payoff_2)"
   ]
  },
  {
   "cell_type": "code",
   "execution_count": 36,
   "metadata": {},
   "outputs": [
    {
     "name": "stdout",
     "output_type": "stream",
     "text": [
      "        0台    1台    2台\n",
      "好況 -100.0  325.0  750.0\n",
      "不況 -100.0  325.0 -250.0\n"
     ]
    }
   ],
   "source": [
    "# 機械1台の稼働コストを減らした\n",
    "payoff_3 = calc_payoff_table(fixed_cost=100, run_cost=575, sale_price=0.2, \n",
    "                             machine_ability=5000, demand_boom=10000, \n",
    "                             demand_slump=5000)\n",
    "print(payoff_3)"
   ]
  },
  {
   "cell_type": "code",
   "execution_count": 37,
   "metadata": {},
   "outputs": [
    {
     "name": "stdout",
     "output_type": "stream",
     "text": [
      "Minimax regret: ['1台']\n"
     ]
    }
   ],
   "source": [
    "print('Minimax regret:', minimax_regret(payoff_2))"
   ]
  },
  {
   "cell_type": "code",
   "execution_count": 38,
   "metadata": {},
   "outputs": [
    {
     "name": "stdout",
     "output_type": "stream",
     "text": [
      "Minimax regret: ['1台']\n"
     ]
    }
   ],
   "source": [
    "print('Minimax regret:', minimax_regret(payoff_3))"
   ]
  },
  {
   "cell_type": "code",
   "execution_count": 39,
   "metadata": {},
   "outputs": [
    {
     "name": "stdout",
     "output_type": "stream",
     "text": [
      "        0台    1台    2台\n",
      "好況 -100.0  400.0  900.0\n",
      "不況 -100.0  400.0 -100.0\n"
     ]
    }
   ],
   "source": [
    "# 機械1台の稼働コストをさらに減らした\n",
    "payoff_4 = calc_payoff_table(fixed_cost=100, run_cost=500, sale_price=0.2, \n",
    "                             machine_ability=5000, demand_boom=10000, \n",
    "                             demand_slump=5000)\n",
    "print(payoff_4)"
   ]
  },
  {
   "cell_type": "code",
   "execution_count": 40,
   "metadata": {},
   "outputs": [
    {
     "name": "stdout",
     "output_type": "stream",
     "text": [
      "Minimax regret: ['1台', '2台']\n"
     ]
    }
   ],
   "source": [
    "print('Minimax regret:', minimax_regret(payoff_4))"
   ]
  }
 ],
 "metadata": {
  "kernelspec": {
   "display_name": "Python 3",
   "language": "python",
   "name": "python3"
  },
  "language_info": {
   "codemirror_mode": {
    "name": "ipython",
    "version": 3
   },
   "file_extension": ".py",
   "mimetype": "text/x-python",
   "name": "python",
   "nbconvert_exporter": "python",
   "pygments_lexer": "ipython3",
   "version": "3.8.3"
  }
 },
 "nbformat": 4,
 "nbformat_minor": 4
}
