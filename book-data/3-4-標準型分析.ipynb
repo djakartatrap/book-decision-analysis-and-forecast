{
 "cells": [
  {
   "cell_type": "markdown",
   "metadata": {},
   "source": [
    "# 意思決定分析と予測の活用｜第3部 決定分析の活用\n",
    "https://logics-of-blue.com/decision-analysis-and-forecast-book-support/"
   ]
  },
  {
   "cell_type": "markdown",
   "metadata": {},
   "source": [
    "## 第4章 標準型分析"
   ]
  },
  {
   "cell_type": "markdown",
   "metadata": {},
   "source": [
    "## セクション1：周辺分布P(θ)が未知"
   ]
  },
  {
   "cell_type": "markdown",
   "metadata": {},
   "source": [
    "### Pythonによる分析の準備"
   ]
  },
  {
   "cell_type": "markdown",
   "metadata": {},
   "source": [
    "#### ライブラリの読み込みなど"
   ]
  },
  {
   "cell_type": "code",
   "execution_count": 1,
   "metadata": {},
   "outputs": [],
   "source": [
    "# 数値計算に使うライブラリ\n",
    "import numpy as np\n",
    "import pandas as pd\n",
    "from scipy.spatial import ConvexHull, convex_hull_plot_2d\n",
    "import itertools\n",
    "\n",
    "# DataFrameの全角文字の出力をきれいにする\n",
    "pd.set_option('display.unicode.east_asian_width', True)\n",
    "# 本文の数値とあわせるために、小数点以下3桁で丸める\n",
    "pd.set_option('display.precision', 3)\n",
    "\n",
    "# グラフ描画\n",
    "import matplotlib.pyplot as plt\n",
    "import seaborn as sns\n",
    "sns.set()\n",
    "\n",
    "# グラフの日本語表記\n",
    "from matplotlib import rcParams\n",
    "rcParams['font.family'] = 'sans-serif'\n",
    "rcParams['font.sans-serif'] = 'Meiryo'"
   ]
  },
  {
   "cell_type": "markdown",
   "metadata": {},
   "source": [
    "### 意思決定に関わる要素の整理"
   ]
  },
  {
   "cell_type": "code",
   "execution_count": 2,
   "metadata": {},
   "outputs": [
    {
     "name": "stdout",
     "output_type": "stream",
     "text": [
      "          検査-問題なし  検査-問題あり\n",
      "問題なし            0.8            0.2\n",
      "問題あり            0.1            0.9\n"
     ]
    }
   ],
   "source": [
    "# I型情報。自然の状態を条件とした、検査情報の条件付き分布\n",
    "conditional_state = pd.DataFrame({\n",
    "    '検査-問題なし': [0.8, 0.1],\n",
    "    '検査-問題あり': [0.2, 0.9]\n",
    "})\n",
    "conditional_state.index = ['問題なし', '問題あり']\n",
    "print(conditional_state)"
   ]
  },
  {
   "cell_type": "code",
   "execution_count": 3,
   "metadata": {},
   "outputs": [
    {
     "name": "stdout",
     "output_type": "stream",
     "text": [
      "          出荷  再検査  破棄\n",
      "問題なし    10       6    -1\n",
      "問題あり   -12      -5    -1\n"
     ]
    }
   ],
   "source": [
    "# 利得行列。数値は金額とする。\n",
    "payoff = pd.DataFrame({\n",
    "    '出荷'  : [10, -12],\n",
    "    '再検査': [6 , -5],\n",
    "    '破棄'  : [-1, -1]\n",
    "})\n",
    "payoff.index = ['問題なし', '問題あり']\n",
    "print(payoff)"
   ]
  },
  {
   "cell_type": "code",
   "execution_count": 4,
   "metadata": {},
   "outputs": [
    {
     "name": "stdout",
     "output_type": "stream",
     "text": [
      "['出荷' '再検査' '破棄']\n"
     ]
    }
   ],
   "source": [
    "# 選択肢\n",
    "action_list = payoff.columns.values\n",
    "print(action_list)"
   ]
  },
  {
   "cell_type": "code",
   "execution_count": 5,
   "metadata": {},
   "outputs": [
    {
     "name": "stdout",
     "output_type": "stream",
     "text": [
      "['検査-問題なし' '検査-問題あり']\n"
     ]
    }
   ],
   "source": [
    "# 検査結果\n",
    "test_list = conditional_state.columns.values\n",
    "print(test_list)"
   ]
  },
  {
   "cell_type": "code",
   "execution_count": 6,
   "metadata": {},
   "outputs": [
    {
     "data": {
      "text/plain": [
       "3"
      ]
     },
     "execution_count": 6,
     "metadata": {},
     "output_type": "execute_result"
    }
   ],
   "source": [
    "# 選択肢の数\n",
    "num_action = len(action_list)\n",
    "num_action"
   ]
  },
  {
   "cell_type": "code",
   "execution_count": 7,
   "metadata": {},
   "outputs": [
    {
     "data": {
      "text/plain": [
       "2"
      ]
     },
     "execution_count": 7,
     "metadata": {},
     "output_type": "execute_result"
    }
   ],
   "source": [
    "# 検査結果の種類数\n",
    "num_test = len(test_list)\n",
    "num_test"
   ]
  },
  {
   "cell_type": "markdown",
   "metadata": {},
   "source": [
    "### 決定方式"
   ]
  },
  {
   "cell_type": "markdown",
   "metadata": {},
   "source": [
    "#### 決定方式の集合Dを作る"
   ]
  },
  {
   "cell_type": "code",
   "execution_count": 8,
   "metadata": {},
   "outputs": [
    {
     "data": {
      "text/plain": [
       "[('出荷', '出荷'),\n",
       " ('出荷', '再検査'),\n",
       " ('出荷', '破棄'),\n",
       " ('再検査', '出荷'),\n",
       " ('再検査', '再検査'),\n",
       " ('再検査', '破棄'),\n",
       " ('破棄', '出荷'),\n",
       " ('破棄', '再検査'),\n",
       " ('破棄', '破棄')]"
      ]
     },
     "execution_count": 8,
     "metadata": {},
     "output_type": "execute_result"
    }
   ],
   "source": [
    "# 選択肢(Action)の組み合わせ\n",
    "list(itertools.product(action_list, repeat=num_test))"
   ]
  },
  {
   "cell_type": "code",
   "execution_count": 9,
   "metadata": {},
   "outputs": [
    {
     "name": "stdout",
     "output_type": "stream",
     "text": [
      "[1 2 3 4 5 6 7 8 9]\n"
     ]
    }
   ],
   "source": [
    "range_idx = np.arange(1, num_action ** num_test + 1, 1)\n",
    "print(range_idx)"
   ]
  },
  {
   "cell_type": "code",
   "execution_count": 10,
   "metadata": {},
   "outputs": [
    {
     "name": "stdout",
     "output_type": "stream",
     "text": [
      "['d1' 'd2' 'd3' 'd4' 'd5' 'd6' 'd7' 'd8' 'd9']\n"
     ]
    }
   ],
   "source": [
    "idx = np.char.add('d', range_idx.astype('str'))\n",
    "print(idx)"
   ]
  },
  {
   "cell_type": "code",
   "execution_count": 11,
   "metadata": {},
   "outputs": [
    {
     "name": "stdout",
     "output_type": "stream",
     "text": [
      "                 d1      d2    d3      d4      d5      d6    d7      d8    d9\n",
      "検査-問題なし  出荷    出荷  出荷  再検査  再検査  再検査  破棄    破棄  破棄\n",
      "検査-問題あり  出荷  再検査  破棄    出荷  再検査    破棄  出荷  再検査  破棄\n"
     ]
    }
   ],
   "source": [
    "# 決定方式の一覧\n",
    "decision_func_set = pd.DataFrame(\n",
    "    list(itertools.product(action_list, repeat=num_test)))\n",
    "# index(行名)の付与\n",
    "decision_func_set.index = idx\n",
    "\n",
    "# 行と列を反転させる\n",
    "decision_func_set = decision_func_set.T\n",
    "# index(行名)の付与\n",
    "decision_func_set.index = test_list\n",
    "\n",
    "# 結果\n",
    "print(decision_func_set)"
   ]
  },
  {
   "cell_type": "markdown",
   "metadata": {},
   "source": [
    "#### 任意の決定方式を取得する"
   ]
  },
  {
   "cell_type": "code",
   "execution_count": 12,
   "metadata": {},
   "outputs": [
    {
     "data": {
      "text/plain": [
       "検査-問題なし      出荷\n",
       "検査-問題あり    再検査\n",
       "Name: d2, dtype: object"
      ]
     },
     "execution_count": 12,
     "metadata": {},
     "output_type": "execute_result"
    }
   ],
   "source": [
    "# d2の決定方式\n",
    "decision_func = decision_func_set['d2']\n",
    "decision_func"
   ]
  },
  {
   "cell_type": "code",
   "execution_count": 13,
   "metadata": {},
   "outputs": [
    {
     "name": "stdout",
     "output_type": "stream",
     "text": [
      "          出荷  再検査\n",
      "問題なし    10       6\n",
      "問題あり   -12      -5\n"
     ]
    }
   ],
   "source": [
    "# ある決定方式を採用したときの利得\n",
    "decision_result = payoff[decision_func]\n",
    "print(decision_result)"
   ]
  },
  {
   "cell_type": "markdown",
   "metadata": {},
   "source": [
    "### 自然の状態別・決定方式別の期待金額の計算"
   ]
  },
  {
   "cell_type": "markdown",
   "metadata": {},
   "source": [
    "#### 計算の方法の確認"
   ]
  },
  {
   "cell_type": "code",
   "execution_count": 14,
   "metadata": {},
   "outputs": [],
   "source": [
    "# 計算を容易にするために、numpy.arrayにする\n",
    "probs_array = conditional_state.values\n",
    "payoff_array = decision_result.values"
   ]
  },
  {
   "cell_type": "code",
   "execution_count": 15,
   "metadata": {},
   "outputs": [
    {
     "data": {
      "text/plain": [
       "array([0.8, 0.2])"
      ]
     },
     "execution_count": 15,
     "metadata": {},
     "output_type": "execute_result"
    }
   ],
   "source": [
    "# P(z1|θ1)とP(z2|θ1)\n",
    "probs_array[0, ]"
   ]
  },
  {
   "cell_type": "code",
   "execution_count": 16,
   "metadata": {},
   "outputs": [
    {
     "data": {
      "text/plain": [
       "array([10,  6], dtype=int64)"
      ]
     },
     "execution_count": 16,
     "metadata": {},
     "output_type": "execute_result"
    }
   ],
   "source": [
    "# c(a1,θ1)とc(a2,θ1)\n",
    "payoff_array[0, ]"
   ]
  },
  {
   "cell_type": "code",
   "execution_count": 17,
   "metadata": {},
   "outputs": [
    {
     "data": {
      "text/plain": [
       "9.2"
      ]
     },
     "execution_count": 17,
     "metadata": {},
     "output_type": "execute_result"
    }
   ],
   "source": [
    "# 自然の状態がθ1であるときのd2決定方式の期待金額\n",
    "np.sum(probs_array[0, ] * payoff_array[0, ])"
   ]
  },
  {
   "cell_type": "code",
   "execution_count": 18,
   "metadata": {},
   "outputs": [
    {
     "data": {
      "text/plain": [
       "array([ 9.2, -5.7])"
      ]
     },
     "execution_count": 18,
     "metadata": {},
     "output_type": "execute_result"
    }
   ],
   "source": [
    "# 自然の状態別の、期待金額の計算\n",
    "np.sum(probs_array * payoff_array, axis=1)"
   ]
  },
  {
   "cell_type": "markdown",
   "metadata": {},
   "source": [
    "#### 関数にまとめる"
   ]
  },
  {
   "cell_type": "code",
   "execution_count": 19,
   "metadata": {},
   "outputs": [],
   "source": [
    "# 期待金額を計算する関数\n",
    "def decision_func_emv(decision_func, probs, payoff_table):\n",
    "    # 決定関数に基づいて行動したときの金額を取得\n",
    "    decision_result = payoff_table[decision_func]\n",
    "    # 計算を容易にするために、ndarrayにする\n",
    "    probs_array = probs.values\n",
    "    payoff_array = decision_result.values\n",
    "    # 自然の状態別の、期待金額の計算\n",
    "    emv = np.sum(probs_array * payoff_array, axis=1)\n",
    "    return(emv)"
   ]
  },
  {
   "cell_type": "code",
   "execution_count": 20,
   "metadata": {},
   "outputs": [
    {
     "data": {
      "text/plain": [
       "array([ 9.2, -5.7])"
      ]
     },
     "execution_count": 20,
     "metadata": {},
     "output_type": "execute_result"
    }
   ],
   "source": [
    "# 関数の動作確認\n",
    "decision_func_emv(decision_func, conditional_state, payoff)"
   ]
  },
  {
   "cell_type": "code",
   "execution_count": 21,
   "metadata": {},
   "outputs": [
    {
     "name": "stdout",
     "output_type": "stream",
     "text": [
      "            d1   d2   d3    d4   d5   d6    d7   d8   d9\n",
      "問題なし  10.0  9.2  7.8   6.8  6.0  4.6   1.2  0.4 -1.0\n",
      "問題あり -12.0 -5.7 -2.1 -11.3 -5.0 -1.4 -10.9 -4.6 -1.0\n"
     ]
    }
   ],
   "source": [
    "# decision_func_setに対してまとめて実行\n",
    "risk_table = decision_func_set.apply(\n",
    "    decision_func_emv, probs=conditional_state, payoff_table=payoff, axis=0)\n",
    "risk_table.index = payoff.index\n",
    "print(risk_table)"
   ]
  },
  {
   "cell_type": "markdown",
   "metadata": {},
   "source": [
    "### 許容的・非許容的な決定方式"
   ]
  },
  {
   "cell_type": "code",
   "execution_count": 22,
   "metadata": {},
   "outputs": [
    {
     "name": "stdout",
     "output_type": "stream",
     "text": [
      "                   d4      d5    d7      d8\n",
      "検査-問題なし  再検査  再検査  破棄    破棄\n",
      "検査-問題あり    出荷  再検査  出荷  再検査\n"
     ]
    }
   ],
   "source": [
    "# 非許容的な決定方式\n",
    "inadmissible_decision = ['d4', 'd5', 'd7', 'd8']\n",
    "# d4、d5、d7、d8の決定方式\n",
    "print(decision_func_set[inadmissible_decision])"
   ]
  },
  {
   "cell_type": "code",
   "execution_count": 23,
   "metadata": {},
   "outputs": [
    {
     "name": "stdout",
     "output_type": "stream",
     "text": [
      "                 d1      d2    d3      d6    d9\n",
      "検査-問題なし  出荷    出荷  出荷  再検査  破棄\n",
      "検査-問題あり  出荷  再検査  破棄    破棄  破棄\n"
     ]
    }
   ],
   "source": [
    "# 許容的な決定方式\n",
    "admissible_decision = ['d1', 'd2', 'd3', 'd6', 'd9']\n",
    "# d1、d2、d3、d6、d9の決定方式\n",
    "print(decision_func_set[admissible_decision])"
   ]
  },
  {
   "cell_type": "markdown",
   "metadata": {},
   "source": [
    "### 決定方式の視覚的な評価"
   ]
  },
  {
   "cell_type": "code",
   "execution_count": 24,
   "metadata": {},
   "outputs": [
    {
     "name": "stdout",
     "output_type": "stream",
     "text": [
      "    問題なし  問題あり\n",
      "d1      10.0     -12.0\n",
      "d2       9.2      -5.7\n",
      "d3       7.8      -2.1\n"
     ]
    }
   ],
   "source": [
    "# 行と列を入れ替える\n",
    "risk_table_t = risk_table.T\n",
    "print(risk_table_t.head(3))"
   ]
  },
  {
   "cell_type": "code",
   "execution_count": 25,
   "metadata": {},
   "outputs": [],
   "source": [
    "# 各データ点が含まれる最小の図形\n",
    "hull = ConvexHull(risk_table_t)"
   ]
  },
  {
   "cell_type": "code",
   "execution_count": 26,
   "metadata": {},
   "outputs": [
    {
     "data": {
      "text/plain": [
       "[('d1',\n",
       "  問題なし    10.0\n",
       "  問題あり   -12.0\n",
       "  Name: d1, dtype: float64),\n",
       " ('d2',\n",
       "  問題なし    9.2\n",
       "  問題あり   -5.7\n",
       "  Name: d2, dtype: float64)]"
      ]
     },
     "execution_count": 26,
     "metadata": {},
     "output_type": "execute_result"
    }
   ],
   "source": [
    "# iterrows関数の挙動\n",
    "list(risk_table_t.iterrows())[0:2]"
   ]
  },
  {
   "cell_type": "code",
   "execution_count": 27,
   "metadata": {
    "scrolled": false
   },
   "outputs": [
    {
     "data": {
      "text/plain": [
       "Text(0, 0.5, '「問題あり」のときの期待金額')"
      ]
     },
     "execution_count": 27,
     "metadata": {},
     "output_type": "execute_result"
    },
    {
     "data": {
      "image/png": "[encoded data removed]",
      "text/plain": [
       "<Figure size 432x432 with 1 Axes>"
      ]
     },
     "metadata": {},
     "output_type": "display_data"
    }
   ],
   "source": [
    "# 描画オブジェクトを生成\n",
    "fig, ax = plt.subplots(figsize=(6, 6))\n",
    "\n",
    "# 散布図とそれを囲む直線を描画\n",
    "plot = convex_hull_plot_2d(hull, ax)\n",
    "\n",
    "# 決定方式の名称のラベルを振る\n",
    "for text, xy in risk_table_t.iterrows():\n",
    "    ax.annotate(text, xy=xy, xytext=xy+0.1)\n",
    "\n",
    "# グラフの装飾\n",
    "ax.set_title('すべての決定方式の評価', fontsize=15)  # タイトル\n",
    "ax.set_xlabel('「問題なし」のときの期待金額')        # X軸ラベル\n",
    "ax.set_ylabel('「問題あり」のときの期待金額')        # Y軸ラベル"
   ]
  },
  {
   "cell_type": "markdown",
   "metadata": {},
   "source": [
    "### 混合決定方式"
   ]
  },
  {
   "cell_type": "code",
   "execution_count": 28,
   "metadata": {},
   "outputs": [
    {
     "name": "stdout",
     "output_type": "stream",
     "text": [
      "           d2   d3\n",
      "問題なし  9.2  7.8\n",
      "問題あり -5.7 -2.1\n"
     ]
    }
   ],
   "source": [
    "# d2とd3決定方式の自然の状態別・決定方式別の期待金額\n",
    "print(risk_table[['d2', 'd3']])"
   ]
  },
  {
   "cell_type": "markdown",
   "metadata": {},
   "source": [
    "## セクション2：周辺分布P(θ)として判断確率を導入"
   ]
  },
  {
   "cell_type": "markdown",
   "metadata": {},
   "source": [
    "### 検査情報がない場合の意思決定"
   ]
  },
  {
   "cell_type": "markdown",
   "metadata": {},
   "source": [
    "#### 計算の方法の確認"
   ]
  },
  {
   "cell_type": "code",
   "execution_count": 29,
   "metadata": {},
   "outputs": [
    {
     "name": "stdout",
     "output_type": "stream",
     "text": [
      "          0     1     2     3     4     5     6     7     8     9    ...  \\\n",
      "問題なし  0.0  0.01  0.02  0.03  0.04  0.05  0.06  0.07  0.08  0.09  ...   \n",
      "問題あり  1.0  0.99  0.98  0.97  0.96  0.95  0.94  0.93  0.92  0.91  ...   \n",
      "\n",
      "           91    92    93    94    95    96    97    98    99   100  \n",
      "問題なし  0.91  0.92  0.93  0.94  0.95  0.96  0.97  0.98  0.99  1.0  \n",
      "問題あり  0.09  0.08  0.07  0.06  0.05  0.04  0.03  0.02  0.01  0.0  \n",
      "\n",
      "[2 rows x 101 columns]\n"
     ]
    }
   ],
   "source": [
    "# 「問題なし」の事前確率は0から1の範囲をとる\n",
    "p_df = pd.DataFrame(np.array([np.arange(0, 1.01, 0.01), \n",
    "                              1 - np.arange(0, 1.01, 0.01)]))\n",
    "p_df.index = payoff.index\n",
    "print(p_df)"
   ]
  },
  {
   "cell_type": "code",
   "execution_count": 30,
   "metadata": {},
   "outputs": [
    {
     "data": {
      "text/plain": [
       "問題なし    10\n",
       "問題あり   -12\n",
       "Name: 出荷, dtype: int64"
      ]
     },
     "execution_count": 30,
     "metadata": {},
     "output_type": "execute_result"
    }
   ],
   "source": [
    "# 「出荷」という行動を選択したときの金額\n",
    "payoff['出荷']"
   ]
  },
  {
   "cell_type": "code",
   "execution_count": 31,
   "metadata": {},
   "outputs": [
    {
     "name": "stdout",
     "output_type": "stream",
     "text": [
      "           0      1      2      3      4     5      6      7      8      9    \\\n",
      "問題なし   0.0   0.10   0.20   0.30   0.40   0.5   0.60   0.70   0.80   0.90   \n",
      "問題あり -12.0 -11.88 -11.76 -11.64 -11.52 -11.4 -11.28 -11.16 -11.04 -10.92   \n",
      "\n",
      "          ...   91    92    93    94   95    96    97    98    99    100  \n",
      "問題なし  ...  9.10  9.20  9.30  9.40  9.5  9.60  9.70  9.80  9.90  10.0  \n",
      "問題あり  ... -1.08 -0.96 -0.84 -0.72 -0.6 -0.48 -0.36 -0.24 -0.12  -0.0  \n",
      "\n",
      "[2 rows x 101 columns]\n"
     ]
    }
   ],
   "source": [
    "# 自然の状態の判断確率で重みづけられた金額\n",
    "print(p_df.mul(payoff['出荷'], axis=0))"
   ]
  },
  {
   "cell_type": "code",
   "execution_count": 32,
   "metadata": {},
   "outputs": [
    {
     "data": {
      "text/plain": [
       "0   -12.00\n",
       "1   -11.78\n",
       "2   -11.56\n",
       "dtype: float64"
      ]
     },
     "execution_count": 32,
     "metadata": {},
     "output_type": "execute_result"
    }
   ],
   "source": [
    "# 自然の状態の判断確率における、金額の期待値\n",
    "p_df.mul(payoff['出荷'], axis=0).sum(axis=0).head(3)"
   ]
  },
  {
   "cell_type": "markdown",
   "metadata": {},
   "source": [
    "#### 効率的な実装"
   ]
  },
  {
   "cell_type": "code",
   "execution_count": 33,
   "metadata": {},
   "outputs": [],
   "source": [
    "def make_emv_list(payoff):\n",
    "    # 「問題あり」が発生する事前確率\n",
    "    p_df = pd.DataFrame(np.array([np.arange(0, 1.01, 0.01), \n",
    "                                  1 - np.arange(0, 1.01, 0.01)]))\n",
    "    p_df.index = payoff.index\n",
    "    # 事前確率で重みづけられた期待金額\n",
    "    emv = p_df.mul(payoff, axis=0).sum(axis=0)\n",
    "    return(emv)"
   ]
  },
  {
   "cell_type": "code",
   "execution_count": 34,
   "metadata": {},
   "outputs": [
    {
     "data": {
      "text/plain": [
       "0   -12.00\n",
       "1   -11.78\n",
       "2   -11.56\n",
       "dtype: float64"
      ]
     },
     "execution_count": 34,
     "metadata": {},
     "output_type": "execute_result"
    }
   ],
   "source": [
    "# 関数の動作確認\n",
    "make_emv_list(payoff['出荷']).head(3)"
   ]
  },
  {
   "cell_type": "code",
   "execution_count": 35,
   "metadata": {},
   "outputs": [
    {
     "name": "stdout",
     "output_type": "stream",
     "text": [
      "    出荷  再検査  破棄\n",
      "0 -12.00   -5.00  -1.0\n",
      "1 -11.78   -4.89  -1.0\n",
      "2 -11.56   -4.78  -1.0\n"
     ]
    }
   ],
   "source": [
    "# まとめて実行\n",
    "no_data_emv = payoff.apply(make_emv_list)\n",
    "print(no_data_emv.head(3))"
   ]
  },
  {
   "cell_type": "markdown",
   "metadata": {},
   "source": [
    "#### 視覚的に最適行動を調べる"
   ]
  },
  {
   "cell_type": "code",
   "execution_count": 36,
   "metadata": {},
   "outputs": [
    {
     "name": "stdout",
     "output_type": "stream",
     "text": [
      "    出荷  再検査  破棄  p_theta\n",
      "0 -12.00   -5.00  -1.0     0.00\n",
      "1 -11.78   -4.89  -1.0     0.01\n",
      "2 -11.56   -4.78  -1.0     0.02\n"
     ]
    }
   ],
   "source": [
    "# 確率の列を入れる\n",
    "no_data_emv_p = no_data_emv.copy()\n",
    "no_data_emv_p.loc[:, 'p_theta'] = np.arange(0, 1.01, 0.01)\n",
    "print(no_data_emv_p.head(3))"
   ]
  },
  {
   "cell_type": "code",
   "execution_count": 37,
   "metadata": {},
   "outputs": [
    {
     "data": {
      "text/plain": [
       "Text(0, 0.5, '期待金額')"
      ]
     },
     "execution_count": 37,
     "metadata": {},
     "output_type": "execute_result"
    },
    {
     "data": {
      "image/png": "[encoded data removed]",
      "text/plain": [
       "<Figure size 504x288 with 1 Axes>"
      ]
     },
     "metadata": {},
     "output_type": "display_data"
    }
   ],
   "source": [
    "# 描画オブジェクトを生成\n",
    "fig, ax = plt.subplots(figsize=(7, 4))\n",
    "\n",
    "# 「問題なし」の発生確率を変化させたときの期待金額の折れ線グラフを描画\n",
    "no_data_emv_p.plot(x='p_theta', ax=ax)\n",
    "\n",
    "# グラフの装飾\n",
    "ax.set_title('検査情報を使わないときの期待金額', fontsize=15)  # タイトル\n",
    "ax.set_xlabel('「問題なし」の発生確率')                        # X軸ラベル\n",
    "ax.set_ylabel('期待金額')                                      # Y軸ラベル"
   ]
  },
  {
   "cell_type": "markdown",
   "metadata": {},
   "source": [
    "### 検査情報を使う場合の期待金額"
   ]
  },
  {
   "cell_type": "code",
   "execution_count": 38,
   "metadata": {},
   "outputs": [
    {
     "name": "stdout",
     "output_type": "stream",
     "text": [
      "            d1   d2   d3   d6   d9\n",
      "問題なし  10.0  9.2  7.8  4.6 -1.0\n",
      "問題あり -12.0 -5.7 -2.1 -1.4 -1.0\n"
     ]
    }
   ],
   "source": [
    "# 再掲：許容的な決定方式であるd1、d2、d3、d6、d9の自然の状態別の期待金額\n",
    "print(risk_table[admissible_decision])"
   ]
  },
  {
   "cell_type": "code",
   "execution_count": 39,
   "metadata": {},
   "outputs": [],
   "source": [
    "# 検査情報を使う場合の期待金額\n",
    "use_data_emv = risk_table[admissible_decision].apply(make_emv_list)"
   ]
  },
  {
   "cell_type": "code",
   "execution_count": 40,
   "metadata": {},
   "outputs": [
    {
     "name": "stdout",
     "output_type": "stream",
     "text": [
      "      d1     d2     d3    d6   d9  p_theta\n",
      "0 -12.00 -5.700 -2.100 -1.40 -1.0     0.00\n",
      "1 -11.78 -5.551 -2.001 -1.34 -1.0     0.01\n",
      "2 -11.56 -5.402 -1.902 -1.28 -1.0     0.02\n"
     ]
    }
   ],
   "source": [
    "# 確率の列を入れる\n",
    "use_data_emv_p = use_data_emv.copy()\n",
    "use_data_emv_p.loc[:, 'p_theta'] = np.arange(0, 1.01, 0.01)\n",
    "print(use_data_emv_p.head(3))"
   ]
  },
  {
   "cell_type": "code",
   "execution_count": 41,
   "metadata": {},
   "outputs": [
    {
     "data": {
      "text/plain": [
       "Text(0, 0.5, '期待金額')"
      ]
     },
     "execution_count": 41,
     "metadata": {},
     "output_type": "execute_result"
    },
    {
     "data": {
      "image/png": "[encoded data removed]",
      "text/plain": [
       "<Figure size 504x288 with 1 Axes>"
      ]
     },
     "metadata": {},
     "output_type": "display_data"
    }
   ],
   "source": [
    "# 描画オブジェクトを生成\n",
    "fig, ax = plt.subplots(figsize=(7, 4))\n",
    "\n",
    "# 「問題なし」の発生確率を変化させたときの期待金額の折れ線グラフを描画\n",
    "use_data_emv_p.plot(x='p_theta', ax=ax)\n",
    "\n",
    "# グラフの装飾\n",
    "ax.set_title('検査情報を使うときの期待金額', fontsize=15)  # タイトル\n",
    "ax.set_xlabel('「問題なし」の発生確率')                    # X軸ラベル\n",
    "ax.set_ylabel('期待金額')                                  # Y軸ラベル"
   ]
  },
  {
   "cell_type": "markdown",
   "metadata": {},
   "source": [
    "### 検査情報がない場合の最適行動"
   ]
  },
  {
   "cell_type": "markdown",
   "metadata": {},
   "source": [
    "#### 計算の方針の確認"
   ]
  },
  {
   "cell_type": "code",
   "execution_count": 42,
   "metadata": {},
   "outputs": [
    {
     "data": {
      "text/plain": [
       "0    破棄\n",
       "1    破棄\n",
       "2    破棄\n",
       "dtype: object"
      ]
     },
     "execution_count": 42,
     "metadata": {},
     "output_type": "execute_result"
    }
   ],
   "source": [
    "# 期待金額が最も大きな選択肢を調べる\n",
    "no_data_best_action = no_data_emv.idxmax(axis=1)\n",
    "no_data_best_action.head(3)"
   ]
  },
  {
   "cell_type": "code",
   "execution_count": 43,
   "metadata": {},
   "outputs": [
    {
     "data": {
      "text/plain": [
       "0     NaN\n",
       "1    破棄\n",
       "2    破棄\n",
       "dtype: object"
      ]
     },
     "execution_count": 43,
     "metadata": {},
     "output_type": "execute_result"
    }
   ],
   "source": [
    "# シフトする\n",
    "no_data_best_action.shift(1).head(3)"
   ]
  },
  {
   "cell_type": "code",
   "execution_count": 44,
   "metadata": {
    "scrolled": true
   },
   "outputs": [
    {
     "data": {
      "text/plain": [
       "0     True\n",
       "1    False\n",
       "2    False\n",
       "dtype: bool"
      ]
     },
     "execution_count": 44,
     "metadata": {},
     "output_type": "execute_result"
    }
   ],
   "source": [
    "# 最適行動が変わるp_thetaを調べる\n",
    "no_data_act_change = no_data_best_action != no_data_best_action.shift(1)\n",
    "no_data_act_change.head(3)"
   ]
  },
  {
   "cell_type": "markdown",
   "metadata": {},
   "source": [
    "#### 最適行動を調べる"
   ]
  },
  {
   "cell_type": "code",
   "execution_count": 45,
   "metadata": {},
   "outputs": [
    {
     "name": "stdout",
     "output_type": "stream",
     "text": [
      "    p_theta best_action\n",
      "0      0.00        破棄\n",
      "37     0.37      再検査\n",
      "64     0.64        出荷\n"
     ]
    }
   ],
   "source": [
    "# 最適行動の列を追加\n",
    "no_data_emv_p.loc[:, 'best_action'] = no_data_best_action\n",
    "# 最適行動が変わるp_thetaを抽出\n",
    "print(no_data_emv_p.loc[no_data_act_change, ['p_theta', 'best_action']])"
   ]
  },
  {
   "cell_type": "markdown",
   "metadata": {},
   "source": [
    "### 検査情報がある場合の最適行動"
   ]
  },
  {
   "cell_type": "code",
   "execution_count": 46,
   "metadata": {},
   "outputs": [
    {
     "name": "stdout",
     "output_type": "stream",
     "text": [
      "    p_theta best_action\n",
      "0      0.00          d9\n",
      "7      0.07          d6\n",
      "18     0.18          d3\n",
      "72     0.72          d2\n",
      "89     0.89          d1\n"
     ]
    }
   ],
   "source": [
    "# 期待金額が最も大きな決定方式を調べる\n",
    "use_data_best_action = use_data_emv.idxmax(axis=1)\n",
    "# 最適行動が変わるp_thetaを調べる\n",
    "use_data_act_change = use_data_best_action != use_data_best_action.shift(1)\n",
    "# 最適行動の列を追加\n",
    "use_data_emv_p.loc[:, 'best_action'] = use_data_best_action\n",
    "# 最適行動が変わるp_thetaを抽出\n",
    "print(use_data_emv_p.loc[use_data_act_change, ['p_theta', 'best_action']])"
   ]
  },
  {
   "cell_type": "code",
   "execution_count": 47,
   "metadata": {},
   "outputs": [
    {
     "name": "stdout",
     "output_type": "stream",
     "text": [
      "                 d1      d2    d3      d6    d9\n",
      "検査-問題なし  出荷    出荷  出荷  再検査  破棄\n",
      "検査-問題あり  出荷  再検査  破棄    破棄  破棄\n"
     ]
    }
   ],
   "source": [
    "# 参考。d1、d2、d3、d6、d9の行動方式の再掲\n",
    "print(decision_func_set[admissible_decision])"
   ]
  },
  {
   "cell_type": "markdown",
   "metadata": {},
   "source": [
    "### 検査情報の価値"
   ]
  },
  {
   "cell_type": "code",
   "execution_count": 48,
   "metadata": {},
   "outputs": [],
   "source": [
    "# 情報を使わないときの最大期待金額\n",
    "no_data_best_emv = no_data_emv.max(axis=1)\n",
    "\n",
    "# 情報を使うときの最大期待金額\n",
    "use_data_best_emv = use_data_emv.max(axis=1)\n",
    "\n",
    "# 情報の価値\n",
    "evsi = use_data_best_emv - no_data_best_emv"
   ]
  },
  {
   "cell_type": "code",
   "execution_count": 49,
   "metadata": {},
   "outputs": [
    {
     "data": {
      "text/plain": [
       "Text(0, 0.5, '情報の価値')"
      ]
     },
     "execution_count": 49,
     "metadata": {},
     "output_type": "execute_result"
    },
    {
     "data": {
      "image/png": "[encoded data removed]",
      "text/plain": [
       "<Figure size 504x288 with 1 Axes>"
      ]
     },
     "metadata": {},
     "output_type": "display_data"
    }
   ],
   "source": [
    "# X軸として使う、「問題なし」の発生確率\n",
    "p_theta = np.arange(0, 1.01, 0.01)\n",
    "\n",
    "# 描画オブジェクトを生成\n",
    "fig, ax = plt.subplots(figsize=(7, 4))\n",
    "\n",
    "# 情報の価値\n",
    "ax.plot(p_theta, evsi, label='情報の価値')\n",
    "\n",
    "# グラフの装飾\n",
    "ax.set_title('検査情報の価値', fontsize=15)  # タイトル\n",
    "ax.set_xlabel('「問題なし」の発生確率')      # X軸ラベル\n",
    "ax.set_ylabel('情報の価値')                  # Y軸ラベル"
   ]
  },
  {
   "cell_type": "markdown",
   "metadata": {},
   "source": [
    "## セクション3：判断確率を導入する際の、効率の良い計算方法"
   ]
  },
  {
   "cell_type": "markdown",
   "metadata": {},
   "source": [
    "### 事後分布の計算"
   ]
  },
  {
   "cell_type": "code",
   "execution_count": 50,
   "metadata": {},
   "outputs": [
    {
     "name": "stdout",
     "output_type": "stream",
     "text": [
      "          検査-問題なし  検査-問題あり\n",
      "問題なし            0.8            0.2\n",
      "問題あり            0.1            0.9\n"
     ]
    }
   ],
   "source": [
    "# 自然の状態にかんする条件付き分布P(z|θ)\n",
    "print(conditional_state)"
   ]
  },
  {
   "cell_type": "code",
   "execution_count": 51,
   "metadata": {},
   "outputs": [
    {
     "data": {
      "text/plain": [
       "問題なし    0.8\n",
       "問題あり    0.2\n",
       "dtype: float64"
      ]
     },
     "execution_count": 51,
     "metadata": {},
     "output_type": "execute_result"
    }
   ],
   "source": [
    "# 自然の状態の周辺分布(事前分布)を与える\n",
    "marginal_state = pd.Series({\n",
    "    '問題なし':0.8,\n",
    "    '問題あり':0.2,\n",
    "})\n",
    "marginal_state"
   ]
  },
  {
   "cell_type": "code",
   "execution_count": 52,
   "metadata": {},
   "outputs": [
    {
     "name": "stdout",
     "output_type": "stream",
     "text": [
      "          検査-問題なし  検査-問題あり\n",
      "問題なし           0.64           0.16\n",
      "問題あり           0.02           0.18\n"
     ]
    }
   ],
   "source": [
    "# ベイズの定理の分子：P(θ)・P(z|θ)\n",
    "# すなわち同時分布を計算する\n",
    "joint_information_state = conditional_state.mul(marginal_state, axis=0)\n",
    "print(joint_information_state)"
   ]
  },
  {
   "cell_type": "code",
   "execution_count": 53,
   "metadata": {},
   "outputs": [
    {
     "data": {
      "text/plain": [
       "検査-問題なし    0.66\n",
       "検査-問題あり    0.34\n",
       "dtype: float64"
      ]
     },
     "execution_count": 53,
     "metadata": {},
     "output_type": "execute_result"
    }
   ],
   "source": [
    "# ベイズの定理の分母：P(z)\n",
    "# すなわち情報の周辺分布を計算する\n",
    "marginal_information = joint_information_state.sum(axis=0)\n",
    "marginal_information"
   ]
  },
  {
   "cell_type": "code",
   "execution_count": 54,
   "metadata": {},
   "outputs": [
    {
     "name": "stdout",
     "output_type": "stream",
     "text": [
      "          検査-問題なし  検査-問題あり\n",
      "問題なし           0.97          0.471\n",
      "問題あり           0.03          0.529\n"
     ]
    }
   ],
   "source": [
    "# ベイズの定理に従って、情報にかんする条件付き分布P(θ|z)を計算\n",
    "# 予測が得られた後の条件付き分布\n",
    "conditional_information = joint_information_state.div(\n",
    "    marginal_information, axis=1)\n",
    "print(conditional_information)"
   ]
  },
  {
   "cell_type": "markdown",
   "metadata": {},
   "source": [
    "### 事後分布に基づく期待金額最大化"
   ]
  },
  {
   "cell_type": "code",
   "execution_count": 55,
   "metadata": {},
   "outputs": [],
   "source": [
    "# 情報に関する条件付き分布P(θ|e)を使って\n",
    "# 期待値を最大にする行動を選ぶ"
   ]
  },
  {
   "cell_type": "code",
   "execution_count": 56,
   "metadata": {},
   "outputs": [],
   "source": [
    "# 最大値をとるインデックスを取得する。最大値が複数ある場合はすべて出力する。\n",
    "def argmax_list(series):\n",
    "    return(list(series[series == series.max()].index))"
   ]
  },
  {
   "cell_type": "code",
   "execution_count": 57,
   "metadata": {},
   "outputs": [],
   "source": [
    "# 期待金額最大化に基づく意思決定を行う関数\n",
    "def max_emv(probs, payoff_table):\n",
    "    emv = payoff_table.mul(probs, axis=0).sum()\n",
    "    max_emv = emv.max()\n",
    "    a_star = argmax_list(emv)\n",
    "    return(pd.Series([a_star, max_emv], index=['選択肢', '期待金額']))"
   ]
  },
  {
   "cell_type": "code",
   "execution_count": 58,
   "metadata": {},
   "outputs": [
    {
     "name": "stdout",
     "output_type": "stream",
     "text": [
      "         検査-問題なし 検査-問題あり\n",
      "選択肢          [出荷]      [再検査]\n",
      "期待金額          9.33         0.176\n"
     ]
    }
   ],
   "source": [
    "# ベイズ決定方式と、検査情報別の条件付きEMV\n",
    "info_decision = \\\n",
    "    conditional_information.apply(max_emv, axis=0, payoff_table=payoff)\n",
    "print(info_decision)"
   ]
  },
  {
   "cell_type": "code",
   "execution_count": 59,
   "metadata": {
    "scrolled": true
   },
   "outputs": [
    {
     "name": "stdout",
     "output_type": "stream",
     "text": [
      "    p_theta best_action\n",
      "80      0.8          d2\n"
     ]
    }
   ],
   "source": [
    "# p_theta=0.8のときの最適な行動方式\n",
    "print(use_data_emv_p.query('p_theta == 0.8')[['p_theta', 'best_action']])"
   ]
  },
  {
   "cell_type": "code",
   "execution_count": 60,
   "metadata": {},
   "outputs": [
    {
     "data": {
      "text/plain": [
       "検査-問題なし      出荷\n",
       "検査-問題あり    再検査\n",
       "Name: d2, dtype: object"
      ]
     },
     "execution_count": 60,
     "metadata": {},
     "output_type": "execute_result"
    }
   ],
   "source": [
    "# 行動方策「d2」\n",
    "decision_func_set['d2']"
   ]
  },
  {
   "cell_type": "code",
   "execution_count": 61,
   "metadata": {},
   "outputs": [
    {
     "name": "stdout",
     "output_type": "stream",
     "text": [
      "    p_theta best_action    d2\n",
      "80      0.8          d2  6.22\n"
     ]
    }
   ],
   "source": [
    "# 参考：p_theta=0.8のときのEMV\n",
    "print(use_data_emv_p.query('p_theta == 0.8')[['p_theta', 'best_action', 'd2']])"
   ]
  },
  {
   "cell_type": "code",
   "execution_count": 62,
   "metadata": {},
   "outputs": [
    {
     "data": {
      "text/plain": [
       "6.220000000000002"
      ]
     },
     "execution_count": 62,
     "metadata": {},
     "output_type": "execute_result"
    }
   ],
   "source": [
    "# 参考：ベイズ決定の結果を情報の周辺分布で期待値を取った際のEMV\n",
    "# これはp_theta=0.8のときのEMVに一致する\n",
    "info_decision.loc['期待金額',].mul(marginal_information).sum()"
   ]
  }
 ],
 "metadata": {
  "kernelspec": {
   "display_name": "Python 3",
   "language": "python",
   "name": "python3"
  },
  "language_info": {
   "codemirror_mode": {
    "name": "ipython",
    "version": 3
   },
   "file_extension": ".py",
   "mimetype": "text/x-python",
   "name": "python",
   "nbconvert_exporter": "python",
   "pygments_lexer": "ipython3",
   "version": "3.8.3"
  }
 },
 "nbformat": 4,
 "nbformat_minor": 4
}
